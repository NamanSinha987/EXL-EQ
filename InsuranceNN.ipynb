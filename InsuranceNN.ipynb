{
  "nbformat": 4,
  "nbformat_minor": 0,
  "metadata": {
    "colab": {
      "name": "InsuranceNN.ipynb",
      "version": "0.3.2",
      "provenance": []
    },
    "kernelspec": {
      "name": "python3",
      "display_name": "Python 3"
    },
    "accelerator": "GPU"
  },
  "cells": [
    {
      "metadata": {
        "id": "5xuVFcRkuN_7",
        "colab_type": "code",
        "colab": {}
      },
      "cell_type": "code",
      "source": [
        "import numpy as np\n",
        "import pandas as pd \n",
        "from pandas import DataFrame, Series\n",
        "import matplotlib.pyplot as plt\n",
        "import seaborn as sns\n",
        "from scipy import stats\n",
        "%matplotlib inline\n",
        "from IPython.core.interactiveshell import InteractiveShell #Show all consecutive outputs\n",
        "InteractiveShell.ast_node_interactivity = \"all\"\n",
        "import pandas as pd\n",
        "import matplotlib.pyplot as plt"
      ],
      "execution_count": 0,
      "outputs": []
    },
    {
      "metadata": {
        "id": "OjmXBo5mxeW6",
        "colab_type": "code",
        "colab": {}
      },
      "cell_type": "code",
      "source": [
        "import warnings\n",
        "warnings.filterwarnings('ignore')"
      ],
      "execution_count": 0,
      "outputs": []
    },
    {
      "metadata": {
        "id": "GZlCl1zuvXJd",
        "colab_type": "code",
        "outputId": "68d06cfa-ad20-42b9-c2a6-b49a675c86ea",
        "colab": {
          "resources": {
            "http://localhost:8080/nbextensions/google.colab/files.js": {
              "data": "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",
              "ok": true,
              "headers": [
                [
                  "content-type",
                  "application/javascript"
                ]
              ],
              "status": 200,
              "status_text": ""
            }
          },
          "base_uri": "https://localhost:8080/",
          "height": 74
        }
      },
      "cell_type": "code",
      "source": [
        "from google.colab import files\n",
        "uploaded=files.upload()"
      ],
      "execution_count": 3,
      "outputs": [
        {
          "output_type": "display_data",
          "data": {
            "text/html": [
              "\n",
              "     <input type=\"file\" id=\"files-207214b7-b486-4238-a18d-e24ebae73b4f\" name=\"files[]\" multiple disabled />\n",
              "     <output id=\"result-207214b7-b486-4238-a18d-e24ebae73b4f\">\n",
              "      Upload widget is only available when the cell has been executed in the\n",
              "      current browser session. Please rerun this cell to enable.\n",
              "      </output>\n",
              "      <script src=\"/nbextensions/google.colab/files.js\"></script> "
            ],
            "text/plain": [
              "<IPython.core.display.HTML object>"
            ]
          },
          "metadata": {
            "tags": []
          }
        },
        {
          "output_type": "stream",
          "text": [
            "Saving Dataset.xlsx to Dataset.xlsx\n"
          ],
          "name": "stdout"
        }
      ]
    },
    {
      "metadata": {
        "id": "cykQbrYHvrvC",
        "colab_type": "code",
        "colab": {}
      },
      "cell_type": "code",
      "source": [
        "import io\n",
        "dataset=pd.read_excel(io.BytesIO(uploaded['Dataset.xlsx']))"
      ],
      "execution_count": 0,
      "outputs": []
    },
    {
      "metadata": {
        "id": "D145t8q4yHFR",
        "colab_type": "code",
        "colab": {}
      },
      "cell_type": "code",
      "source": [
        "pd.set_option('display.max_columns',None)"
      ],
      "execution_count": 0,
      "outputs": []
    },
    {
      "metadata": {
        "id": "deaq_tC6yHQ2",
        "colab_type": "code",
        "outputId": "1db1134f-c997-4fa3-8d70-d9d81ba54abb",
        "colab": {
          "base_uri": "https://localhost:8080/",
          "height": 34
        }
      },
      "cell_type": "code",
      "source": [
        "dataset.shape"
      ],
      "execution_count": 6,
      "outputs": [
        {
          "output_type": "execute_result",
          "data": {
            "text/plain": [
              "(11565, 34)"
            ]
          },
          "metadata": {
            "tags": []
          },
          "execution_count": 6
        }
      ]
    },
    {
      "metadata": {
        "id": "Sk3l2Af5x5Uf",
        "colab_type": "code",
        "outputId": "a76ff127-523f-40ca-a7e7-bbf1d2f8c5a4",
        "colab": {
          "base_uri": "https://localhost:8080/",
          "height": 309
        }
      },
      "cell_type": "code",
      "source": [
        "dataset.head()"
      ],
      "execution_count": 7,
      "outputs": [
        {
          "output_type": "execute_result",
          "data": {
            "text/html": [
              "<div>\n",
              "<style scoped>\n",
              "    .dataframe tbody tr th:only-of-type {\n",
              "        vertical-align: middle;\n",
              "    }\n",
              "\n",
              "    .dataframe tbody tr th {\n",
              "        vertical-align: top;\n",
              "    }\n",
              "\n",
              "    .dataframe thead th {\n",
              "        text-align: right;\n",
              "    }\n",
              "</style>\n",
              "<table border=\"1\" class=\"dataframe\">\n",
              "  <thead>\n",
              "    <tr style=\"text-align: right;\">\n",
              "      <th></th>\n",
              "      <th>Month</th>\n",
              "      <th>WeekOfMonth</th>\n",
              "      <th>DayOfWeek</th>\n",
              "      <th>Make</th>\n",
              "      <th>AccidentArea</th>\n",
              "      <th>DayOfWeekClaimed</th>\n",
              "      <th>MonthClaimed</th>\n",
              "      <th>WeekOfMonthClaimed</th>\n",
              "      <th>Sex</th>\n",
              "      <th>MaritalStatus</th>\n",
              "      <th>Age</th>\n",
              "      <th>Fault</th>\n",
              "      <th>PolicyType</th>\n",
              "      <th>VehicleCategory</th>\n",
              "      <th>VehiclePrice</th>\n",
              "      <th>FraudFound_P</th>\n",
              "      <th>PolicyNumber</th>\n",
              "      <th>RepNumber</th>\n",
              "      <th>Deductible</th>\n",
              "      <th>DriverRating</th>\n",
              "      <th>Days_Policy_Accident</th>\n",
              "      <th>Days_Policy_Claim</th>\n",
              "      <th>PastNumberOfClaims</th>\n",
              "      <th>AgeOfVehicle</th>\n",
              "      <th>AgeOfPolicyHolder</th>\n",
              "      <th>PoliceReportFiled</th>\n",
              "      <th>WitnessPresent</th>\n",
              "      <th>AgentType</th>\n",
              "      <th>NumberOfSuppliments</th>\n",
              "      <th>AddressChange_Claim</th>\n",
              "      <th>NumberOfCars</th>\n",
              "      <th>Year</th>\n",
              "      <th>BasePolicy</th>\n",
              "      <th>ClaimSize</th>\n",
              "    </tr>\n",
              "  </thead>\n",
              "  <tbody>\n",
              "    <tr>\n",
              "      <th>0</th>\n",
              "      <td>Dec</td>\n",
              "      <td>5</td>\n",
              "      <td>Wednesday</td>\n",
              "      <td>Honda</td>\n",
              "      <td>Urban</td>\n",
              "      <td>Tuesday</td>\n",
              "      <td>Jan</td>\n",
              "      <td>1</td>\n",
              "      <td>Female</td>\n",
              "      <td>Single</td>\n",
              "      <td>21.0</td>\n",
              "      <td>Policy Holder</td>\n",
              "      <td>Sport - Liability</td>\n",
              "      <td>Sport</td>\n",
              "      <td>more than 69000</td>\n",
              "      <td>0</td>\n",
              "      <td>1</td>\n",
              "      <td>12</td>\n",
              "      <td>300</td>\n",
              "      <td>1.0</td>\n",
              "      <td>more than 30</td>\n",
              "      <td>more than 30</td>\n",
              "      <td>none</td>\n",
              "      <td>3 years</td>\n",
              "      <td>26 to 30</td>\n",
              "      <td>No</td>\n",
              "      <td>No</td>\n",
              "      <td>External</td>\n",
              "      <td>none</td>\n",
              "      <td>1 year</td>\n",
              "      <td>3 to 4</td>\n",
              "      <td>1994</td>\n",
              "      <td>Liability</td>\n",
              "      <td>55526.069421</td>\n",
              "    </tr>\n",
              "    <tr>\n",
              "      <th>1</th>\n",
              "      <td>Jan</td>\n",
              "      <td>3</td>\n",
              "      <td>Wednesday</td>\n",
              "      <td>Honda</td>\n",
              "      <td>Urban</td>\n",
              "      <td>Monday</td>\n",
              "      <td>Jan</td>\n",
              "      <td>4</td>\n",
              "      <td>Male</td>\n",
              "      <td>Single</td>\n",
              "      <td>34.0</td>\n",
              "      <td>Policy Holder</td>\n",
              "      <td>Sport - Collision</td>\n",
              "      <td>Sport</td>\n",
              "      <td>more than 69000</td>\n",
              "      <td>0</td>\n",
              "      <td>2</td>\n",
              "      <td>15</td>\n",
              "      <td>400</td>\n",
              "      <td>4.0</td>\n",
              "      <td>more than 30</td>\n",
              "      <td>more than 30</td>\n",
              "      <td>none</td>\n",
              "      <td>6 years</td>\n",
              "      <td>31 to 35</td>\n",
              "      <td>Yes</td>\n",
              "      <td>No</td>\n",
              "      <td>External</td>\n",
              "      <td>none</td>\n",
              "      <td>no change</td>\n",
              "      <td>1 vehicle</td>\n",
              "      <td>1994</td>\n",
              "      <td>Collision</td>\n",
              "      <td>59294.455571</td>\n",
              "    </tr>\n",
              "    <tr>\n",
              "      <th>2</th>\n",
              "      <td>Oct</td>\n",
              "      <td>5</td>\n",
              "      <td>Friday</td>\n",
              "      <td>Honda</td>\n",
              "      <td>Urban</td>\n",
              "      <td>Thursday</td>\n",
              "      <td>Nov</td>\n",
              "      <td>2</td>\n",
              "      <td>Male</td>\n",
              "      <td>Married</td>\n",
              "      <td>47.0</td>\n",
              "      <td>Policy Holder</td>\n",
              "      <td>Sport - Collision</td>\n",
              "      <td>Sport</td>\n",
              "      <td>more than 69000</td>\n",
              "      <td>0</td>\n",
              "      <td>3</td>\n",
              "      <td>7</td>\n",
              "      <td>400</td>\n",
              "      <td>3.0</td>\n",
              "      <td>more than 30</td>\n",
              "      <td>more than 30</td>\n",
              "      <td>1</td>\n",
              "      <td>7 years</td>\n",
              "      <td>41 to 50</td>\n",
              "      <td>No</td>\n",
              "      <td>No</td>\n",
              "      <td>External</td>\n",
              "      <td>none</td>\n",
              "      <td>no change</td>\n",
              "      <td>1 vehicle</td>\n",
              "      <td>1994</td>\n",
              "      <td>Collision</td>\n",
              "      <td>71756.941320</td>\n",
              "    </tr>\n",
              "    <tr>\n",
              "      <th>3</th>\n",
              "      <td>Jun</td>\n",
              "      <td>2</td>\n",
              "      <td>Saturday</td>\n",
              "      <td>Toyota</td>\n",
              "      <td>Rural</td>\n",
              "      <td>Friday</td>\n",
              "      <td>Jul</td>\n",
              "      <td>1</td>\n",
              "      <td>Male</td>\n",
              "      <td>Married</td>\n",
              "      <td>65.0</td>\n",
              "      <td>Third Party</td>\n",
              "      <td>Sedan - Liability</td>\n",
              "      <td>Sport</td>\n",
              "      <td>20000 to 29000</td>\n",
              "      <td>0</td>\n",
              "      <td>4</td>\n",
              "      <td>4</td>\n",
              "      <td>400</td>\n",
              "      <td>2.0</td>\n",
              "      <td>more than 30</td>\n",
              "      <td>more than 30</td>\n",
              "      <td>1</td>\n",
              "      <td>more than 7</td>\n",
              "      <td>51 to 65</td>\n",
              "      <td>Yes</td>\n",
              "      <td>No</td>\n",
              "      <td>External</td>\n",
              "      <td>more than 5</td>\n",
              "      <td>no change</td>\n",
              "      <td>1 vehicle</td>\n",
              "      <td>1994</td>\n",
              "      <td>Liability</td>\n",
              "      <td>7584.153493</td>\n",
              "    </tr>\n",
              "    <tr>\n",
              "      <th>4</th>\n",
              "      <td>Feb</td>\n",
              "      <td>1</td>\n",
              "      <td>Saturday</td>\n",
              "      <td>Honda</td>\n",
              "      <td>Urban</td>\n",
              "      <td>Monday</td>\n",
              "      <td>Feb</td>\n",
              "      <td>3</td>\n",
              "      <td>Male</td>\n",
              "      <td>Married</td>\n",
              "      <td>36.0</td>\n",
              "      <td>Third Party</td>\n",
              "      <td>Sport - Collision</td>\n",
              "      <td>Sport</td>\n",
              "      <td>more than 69000</td>\n",
              "      <td>0</td>\n",
              "      <td>7</td>\n",
              "      <td>14</td>\n",
              "      <td>400</td>\n",
              "      <td>1.0</td>\n",
              "      <td>more than 30</td>\n",
              "      <td>more than 30</td>\n",
              "      <td>1</td>\n",
              "      <td>7 years</td>\n",
              "      <td>36 to 40</td>\n",
              "      <td>No</td>\n",
              "      <td>No</td>\n",
              "      <td>External</td>\n",
              "      <td>1 to 2</td>\n",
              "      <td>no change</td>\n",
              "      <td>1 vehicle</td>\n",
              "      <td>1994</td>\n",
              "      <td>Collision</td>\n",
              "      <td>98545.374339</td>\n",
              "    </tr>\n",
              "  </tbody>\n",
              "</table>\n",
              "</div>"
            ],
            "text/plain": [
              "  Month  WeekOfMonth  DayOfWeek    Make AccidentArea DayOfWeekClaimed  \\\n",
              "0   Dec            5  Wednesday   Honda        Urban          Tuesday   \n",
              "1   Jan            3  Wednesday   Honda        Urban           Monday   \n",
              "2   Oct            5     Friday   Honda        Urban         Thursday   \n",
              "3   Jun            2   Saturday  Toyota        Rural           Friday   \n",
              "4   Feb            1   Saturday   Honda        Urban           Monday   \n",
              "\n",
              "  MonthClaimed  WeekOfMonthClaimed     Sex MaritalStatus   Age          Fault  \\\n",
              "0          Jan                   1  Female        Single  21.0  Policy Holder   \n",
              "1          Jan                   4    Male        Single  34.0  Policy Holder   \n",
              "2          Nov                   2    Male       Married  47.0  Policy Holder   \n",
              "3          Jul                   1    Male       Married  65.0    Third Party   \n",
              "4          Feb                   3    Male       Married  36.0    Third Party   \n",
              "\n",
              "          PolicyType VehicleCategory     VehiclePrice  FraudFound_P  \\\n",
              "0  Sport - Liability           Sport  more than 69000             0   \n",
              "1  Sport - Collision           Sport  more than 69000             0   \n",
              "2  Sport - Collision           Sport  more than 69000             0   \n",
              "3  Sedan - Liability           Sport   20000 to 29000             0   \n",
              "4  Sport - Collision           Sport  more than 69000             0   \n",
              "\n",
              "   PolicyNumber  RepNumber  Deductible  DriverRating Days_Policy_Accident  \\\n",
              "0             1         12         300           1.0         more than 30   \n",
              "1             2         15         400           4.0         more than 30   \n",
              "2             3          7         400           3.0         more than 30   \n",
              "3             4          4         400           2.0         more than 30   \n",
              "4             7         14         400           1.0         more than 30   \n",
              "\n",
              "  Days_Policy_Claim PastNumberOfClaims AgeOfVehicle AgeOfPolicyHolder  \\\n",
              "0      more than 30               none      3 years          26 to 30   \n",
              "1      more than 30               none      6 years          31 to 35   \n",
              "2      more than 30                  1      7 years          41 to 50   \n",
              "3      more than 30                  1  more than 7          51 to 65   \n",
              "4      more than 30                  1      7 years          36 to 40   \n",
              "\n",
              "  PoliceReportFiled WitnessPresent AgentType NumberOfSuppliments  \\\n",
              "0                No             No  External                none   \n",
              "1               Yes             No  External                none   \n",
              "2                No             No  External                none   \n",
              "3               Yes             No  External         more than 5   \n",
              "4                No             No  External              1 to 2   \n",
              "\n",
              "  AddressChange_Claim NumberOfCars  Year BasePolicy     ClaimSize  \n",
              "0              1 year       3 to 4  1994  Liability  55526.069421  \n",
              "1           no change    1 vehicle  1994  Collision  59294.455571  \n",
              "2           no change    1 vehicle  1994  Collision  71756.941320  \n",
              "3           no change    1 vehicle  1994  Liability   7584.153493  \n",
              "4           no change    1 vehicle  1994  Collision  98545.374339  "
            ]
          },
          "metadata": {
            "tags": []
          },
          "execution_count": 7
        }
      ]
    },
    {
      "metadata": {
        "id": "NuS9vYe7yznp",
        "colab_type": "code",
        "outputId": "5e453d99-8d79-4d16-90cb-5ca3cdea0e3d",
        "colab": {
          "base_uri": "https://localhost:8080/",
          "height": 1555
        }
      },
      "cell_type": "code",
      "source": [
        "dataset.info()\n",
        "dataset.describe()\n",
        "#checking fro null values\n",
        "dataset.isnull().sum()"
      ],
      "execution_count": 8,
      "outputs": [
        {
          "output_type": "stream",
          "text": [
            "<class 'pandas.core.frame.DataFrame'>\n",
            "RangeIndex: 11565 entries, 0 to 11564\n",
            "Data columns (total 34 columns):\n",
            "Month                   11565 non-null object\n",
            "WeekOfMonth             11565 non-null int64\n",
            "DayOfWeek               11565 non-null object\n",
            "Make                    11565 non-null object\n",
            "AccidentArea            11565 non-null object\n",
            "DayOfWeekClaimed        11565 non-null object\n",
            "MonthClaimed            11565 non-null object\n",
            "WeekOfMonthClaimed      11565 non-null int64\n",
            "Sex                     11565 non-null object\n",
            "MaritalStatus           11565 non-null object\n",
            "Age                     11560 non-null float64\n",
            "Fault                   11565 non-null object\n",
            "PolicyType              11565 non-null object\n",
            "VehicleCategory         11565 non-null object\n",
            "VehiclePrice            11565 non-null object\n",
            "FraudFound_P            11565 non-null int64\n",
            "PolicyNumber            11565 non-null int64\n",
            "RepNumber               11565 non-null int64\n",
            "Deductible              11565 non-null int64\n",
            "DriverRating            11559 non-null float64\n",
            "Days_Policy_Accident    11565 non-null object\n",
            "Days_Policy_Claim       11565 non-null object\n",
            "PastNumberOfClaims      11565 non-null object\n",
            "AgeOfVehicle            11565 non-null object\n",
            "AgeOfPolicyHolder       11565 non-null object\n",
            "PoliceReportFiled       11565 non-null object\n",
            "WitnessPresent          11565 non-null object\n",
            "AgentType               11565 non-null object\n",
            "NumberOfSuppliments     11565 non-null object\n",
            "AddressChange_Claim     11565 non-null object\n",
            "NumberOfCars            11565 non-null object\n",
            "Year                    11565 non-null int64\n",
            "BasePolicy              11565 non-null object\n",
            "ClaimSize               11565 non-null float64\n",
            "dtypes: float64(3), int64(7), object(24)\n",
            "memory usage: 3.0+ MB\n"
          ],
          "name": "stdout"
        },
        {
          "output_type": "execute_result",
          "data": {
            "text/html": [
              "<div>\n",
              "<style scoped>\n",
              "    .dataframe tbody tr th:only-of-type {\n",
              "        vertical-align: middle;\n",
              "    }\n",
              "\n",
              "    .dataframe tbody tr th {\n",
              "        vertical-align: top;\n",
              "    }\n",
              "\n",
              "    .dataframe thead th {\n",
              "        text-align: right;\n",
              "    }\n",
              "</style>\n",
              "<table border=\"1\" class=\"dataframe\">\n",
              "  <thead>\n",
              "    <tr style=\"text-align: right;\">\n",
              "      <th></th>\n",
              "      <th>WeekOfMonth</th>\n",
              "      <th>WeekOfMonthClaimed</th>\n",
              "      <th>Age</th>\n",
              "      <th>FraudFound_P</th>\n",
              "      <th>PolicyNumber</th>\n",
              "      <th>RepNumber</th>\n",
              "      <th>Deductible</th>\n",
              "      <th>DriverRating</th>\n",
              "      <th>Year</th>\n",
              "      <th>ClaimSize</th>\n",
              "    </tr>\n",
              "  </thead>\n",
              "  <tbody>\n",
              "    <tr>\n",
              "      <th>count</th>\n",
              "      <td>11565.000000</td>\n",
              "      <td>11565.000000</td>\n",
              "      <td>11560.000000</td>\n",
              "      <td>11565.000000</td>\n",
              "      <td>11565.000000</td>\n",
              "      <td>11565.000000</td>\n",
              "      <td>11565.000000</td>\n",
              "      <td>11559.000000</td>\n",
              "      <td>11565.000000</td>\n",
              "      <td>11565.000000</td>\n",
              "    </tr>\n",
              "    <tr>\n",
              "      <th>mean</th>\n",
              "      <td>2.784003</td>\n",
              "      <td>2.701167</td>\n",
              "      <td>39.899567</td>\n",
              "      <td>0.059230</td>\n",
              "      <td>7710.474449</td>\n",
              "      <td>8.469780</td>\n",
              "      <td>407.617812</td>\n",
              "      <td>2.493468</td>\n",
              "      <td>1994.865975</td>\n",
              "      <td>22955.978035</td>\n",
              "    </tr>\n",
              "    <tr>\n",
              "      <th>std</th>\n",
              "      <td>1.284854</td>\n",
              "      <td>1.258153</td>\n",
              "      <td>13.590556</td>\n",
              "      <td>0.236066</td>\n",
              "      <td>4453.762219</td>\n",
              "      <td>4.618952</td>\n",
              "      <td>43.397393</td>\n",
              "      <td>1.118102</td>\n",
              "      <td>0.801798</td>\n",
              "      <td>26988.811719</td>\n",
              "    </tr>\n",
              "    <tr>\n",
              "      <th>min</th>\n",
              "      <td>1.000000</td>\n",
              "      <td>1.000000</td>\n",
              "      <td>0.000000</td>\n",
              "      <td>0.000000</td>\n",
              "      <td>1.000000</td>\n",
              "      <td>1.000000</td>\n",
              "      <td>300.000000</td>\n",
              "      <td>1.000000</td>\n",
              "      <td>1994.000000</td>\n",
              "      <td>0.000000</td>\n",
              "    </tr>\n",
              "    <tr>\n",
              "      <th>25%</th>\n",
              "      <td>2.000000</td>\n",
              "      <td>2.000000</td>\n",
              "      <td>31.000000</td>\n",
              "      <td>0.000000</td>\n",
              "      <td>3851.000000</td>\n",
              "      <td>4.000000</td>\n",
              "      <td>400.000000</td>\n",
              "      <td>1.000000</td>\n",
              "      <td>1994.000000</td>\n",
              "      <td>4148.845001</td>\n",
              "    </tr>\n",
              "    <tr>\n",
              "      <th>50%</th>\n",
              "      <td>3.000000</td>\n",
              "      <td>3.000000</td>\n",
              "      <td>38.000000</td>\n",
              "      <td>0.000000</td>\n",
              "      <td>7712.000000</td>\n",
              "      <td>8.000000</td>\n",
              "      <td>400.000000</td>\n",
              "      <td>3.000000</td>\n",
              "      <td>1995.000000</td>\n",
              "      <td>8130.994563</td>\n",
              "    </tr>\n",
              "    <tr>\n",
              "      <th>75%</th>\n",
              "      <td>4.000000</td>\n",
              "      <td>4.000000</td>\n",
              "      <td>49.000000</td>\n",
              "      <td>0.000000</td>\n",
              "      <td>11542.000000</td>\n",
              "      <td>12.000000</td>\n",
              "      <td>400.000000</td>\n",
              "      <td>3.000000</td>\n",
              "      <td>1996.000000</td>\n",
              "      <td>46299.646944</td>\n",
              "    </tr>\n",
              "    <tr>\n",
              "      <th>max</th>\n",
              "      <td>5.000000</td>\n",
              "      <td>5.000000</td>\n",
              "      <td>80.000000</td>\n",
              "      <td>1.000000</td>\n",
              "      <td>15420.000000</td>\n",
              "      <td>16.000000</td>\n",
              "      <td>700.000000</td>\n",
              "      <td>4.000000</td>\n",
              "      <td>1996.000000</td>\n",
              "      <td>141394.159289</td>\n",
              "    </tr>\n",
              "  </tbody>\n",
              "</table>\n",
              "</div>"
            ],
            "text/plain": [
              "        WeekOfMonth  WeekOfMonthClaimed           Age  FraudFound_P  \\\n",
              "count  11565.000000        11565.000000  11560.000000  11565.000000   \n",
              "mean       2.784003            2.701167     39.899567      0.059230   \n",
              "std        1.284854            1.258153     13.590556      0.236066   \n",
              "min        1.000000            1.000000      0.000000      0.000000   \n",
              "25%        2.000000            2.000000     31.000000      0.000000   \n",
              "50%        3.000000            3.000000     38.000000      0.000000   \n",
              "75%        4.000000            4.000000     49.000000      0.000000   \n",
              "max        5.000000            5.000000     80.000000      1.000000   \n",
              "\n",
              "       PolicyNumber     RepNumber    Deductible  DriverRating          Year  \\\n",
              "count  11565.000000  11565.000000  11565.000000  11559.000000  11565.000000   \n",
              "mean    7710.474449      8.469780    407.617812      2.493468   1994.865975   \n",
              "std     4453.762219      4.618952     43.397393      1.118102      0.801798   \n",
              "min        1.000000      1.000000    300.000000      1.000000   1994.000000   \n",
              "25%     3851.000000      4.000000    400.000000      1.000000   1994.000000   \n",
              "50%     7712.000000      8.000000    400.000000      3.000000   1995.000000   \n",
              "75%    11542.000000     12.000000    400.000000      3.000000   1996.000000   \n",
              "max    15420.000000     16.000000    700.000000      4.000000   1996.000000   \n",
              "\n",
              "           ClaimSize  \n",
              "count   11565.000000  \n",
              "mean    22955.978035  \n",
              "std     26988.811719  \n",
              "min         0.000000  \n",
              "25%      4148.845001  \n",
              "50%      8130.994563  \n",
              "75%     46299.646944  \n",
              "max    141394.159289  "
            ]
          },
          "metadata": {
            "tags": []
          },
          "execution_count": 8
        },
        {
          "output_type": "execute_result",
          "data": {
            "text/plain": [
              "Month                   0\n",
              "WeekOfMonth             0\n",
              "DayOfWeek               0\n",
              "Make                    0\n",
              "AccidentArea            0\n",
              "DayOfWeekClaimed        0\n",
              "MonthClaimed            0\n",
              "WeekOfMonthClaimed      0\n",
              "Sex                     0\n",
              "MaritalStatus           0\n",
              "Age                     5\n",
              "Fault                   0\n",
              "PolicyType              0\n",
              "VehicleCategory         0\n",
              "VehiclePrice            0\n",
              "FraudFound_P            0\n",
              "PolicyNumber            0\n",
              "RepNumber               0\n",
              "Deductible              0\n",
              "DriverRating            6\n",
              "Days_Policy_Accident    0\n",
              "Days_Policy_Claim       0\n",
              "PastNumberOfClaims      0\n",
              "AgeOfVehicle            0\n",
              "AgeOfPolicyHolder       0\n",
              "PoliceReportFiled       0\n",
              "WitnessPresent          0\n",
              "AgentType               0\n",
              "NumberOfSuppliments     0\n",
              "AddressChange_Claim     0\n",
              "NumberOfCars            0\n",
              "Year                    0\n",
              "BasePolicy              0\n",
              "ClaimSize               0\n",
              "dtype: int64"
            ]
          },
          "metadata": {
            "tags": []
          },
          "execution_count": 8
        }
      ]
    },
    {
      "metadata": {
        "id": "guwfJcEg4sXE",
        "colab_type": "text"
      },
      "cell_type": "markdown",
      "source": [
        "# Now we will analyze every property one by one."
      ]
    },
    {
      "metadata": {
        "id": "HIi52Huc0C3K",
        "colab_type": "code",
        "outputId": "8cc297db-d58d-415d-8cbf-80570269bf8b",
        "colab": {
          "base_uri": "https://localhost:8080/",
          "height": 7344
        }
      },
      "cell_type": "code",
      "source": [
        "# value count for every column\n",
        "for column in dataset:\n",
        "  print(\"\\n\")\n",
        "  dataset[column].value_counts()\n",
        "  \n"
      ],
      "execution_count": 9,
      "outputs": [
        {
          "output_type": "stream",
          "text": [
            "\n",
            "\n"
          ],
          "name": "stdout"
        },
        {
          "output_type": "execute_result",
          "data": {
            "text/plain": [
              "Jan    1056\n",
              "May    1028\n",
              "Mar     995\n",
              "Jun     981\n",
              "Oct     973\n",
              "Dec     970\n",
              "Apr     959\n",
              "Sep     952\n",
              "Feb     949\n",
              "Jul     938\n",
              "Nov     913\n",
              "Aug     851\n",
              "Name: Month, dtype: int64"
            ]
          },
          "metadata": {
            "tags": []
          },
          "execution_count": 9
        },
        {
          "output_type": "stream",
          "text": [
            "\n",
            "\n"
          ],
          "name": "stdout"
        },
        {
          "output_type": "execute_result",
          "data": {
            "text/plain": [
              "3    2750\n",
              "2    2681\n",
              "4    2529\n",
              "1    2389\n",
              "5    1216\n",
              "Name: WeekOfMonth, dtype: int64"
            ]
          },
          "metadata": {
            "tags": []
          },
          "execution_count": 9
        },
        {
          "output_type": "stream",
          "text": [
            "\n",
            "\n"
          ],
          "name": "stdout"
        },
        {
          "output_type": "execute_result",
          "data": {
            "text/plain": [
              "Monday       2000\n",
              "Friday       1838\n",
              "Tuesday      1737\n",
              "Thursday     1624\n",
              "Wednesday    1565\n",
              "Saturday     1469\n",
              "Sunday       1332\n",
              "Name: DayOfWeek, dtype: int64"
            ]
          },
          "metadata": {
            "tags": []
          },
          "execution_count": 9
        },
        {
          "output_type": "stream",
          "text": [
            "\n",
            "\n"
          ],
          "name": "stdout"
        },
        {
          "output_type": "execute_result",
          "data": {
            "text/plain": [
              "Pontiac      2899\n",
              "Toyota       2317\n",
              "Honda        2159\n",
              "Mazda        1724\n",
              "Chevrolet    1253\n",
              "Accura        354\n",
              "Ford          338\n",
              "VW            220\n",
              "Dodge          77\n",
              "Saab           70\n",
              "Mercury        68\n",
              "Saturn         41\n",
              "Nisson         22\n",
              "BMW             9\n",
              "Jaguar          5\n",
              "Mecedes         3\n",
              "Porche          3\n",
              "Ferrari         2\n",
              "Lexus           1\n",
              "Name: Make, dtype: int64"
            ]
          },
          "metadata": {
            "tags": []
          },
          "execution_count": 9
        },
        {
          "output_type": "stream",
          "text": [
            "\n",
            "\n"
          ],
          "name": "stdout"
        },
        {
          "output_type": "execute_result",
          "data": {
            "text/plain": [
              "Urban    10356\n",
              "Rural     1209\n",
              "Name: AccidentArea, dtype: int64"
            ]
          },
          "metadata": {
            "tags": []
          },
          "execution_count": 9
        },
        {
          "output_type": "stream",
          "text": [
            "\n",
            "\n"
          ],
          "name": "stdout"
        },
        {
          "output_type": "execute_result",
          "data": {
            "text/plain": [
              "Monday       2811\n",
              "Tuesday      2545\n",
              "Wednesday    2232\n",
              "Thursday     2000\n",
              "Friday       1842\n",
              "Saturday       94\n",
              "Sunday         40\n",
              "0               1\n",
              "Name: DayOfWeekClaimed, dtype: int64"
            ]
          },
          "metadata": {
            "tags": []
          },
          "execution_count": 9
        },
        {
          "output_type": "stream",
          "text": [
            "\n",
            "\n"
          ],
          "name": "stdout"
        },
        {
          "output_type": "execute_result",
          "data": {
            "text/plain": [
              "Jan    1084\n",
              "May    1038\n",
              "Mar    1005\n",
              "Oct     995\n",
              "Nov     973\n",
              "Apr     970\n",
              "Jun     967\n",
              "Feb     955\n",
              "Sep     944\n",
              "Jul     908\n",
              "Dec     879\n",
              "Aug     846\n",
              "0         1\n",
              "Name: MonthClaimed, dtype: int64"
            ]
          },
          "metadata": {
            "tags": []
          },
          "execution_count": 9
        },
        {
          "output_type": "stream",
          "text": [
            "\n",
            "\n"
          ],
          "name": "stdout"
        },
        {
          "output_type": "execute_result",
          "data": {
            "text/plain": [
              "2    2787\n",
              "3    2715\n",
              "4    2567\n",
              "1    2557\n",
              "5     939\n",
              "Name: WeekOfMonthClaimed, dtype: int64"
            ]
          },
          "metadata": {
            "tags": []
          },
          "execution_count": 9
        },
        {
          "output_type": "stream",
          "text": [
            "\n",
            "\n"
          ],
          "name": "stdout"
        },
        {
          "output_type": "execute_result",
          "data": {
            "text/plain": [
              "Male      9768\n",
              "Female    1797\n",
              "Name: Sex, dtype: int64"
            ]
          },
          "metadata": {
            "tags": []
          },
          "execution_count": 9
        },
        {
          "output_type": "stream",
          "text": [
            "\n",
            "\n"
          ],
          "name": "stdout"
        },
        {
          "output_type": "execute_result",
          "data": {
            "text/plain": [
              "Married     7986\n",
              "Single      3497\n",
              "Divorced      61\n",
              "Widow         21\n",
              "Name: MaritalStatus, dtype: int64"
            ]
          },
          "metadata": {
            "tags": []
          },
          "execution_count": 9
        },
        {
          "output_type": "stream",
          "text": [
            "\n",
            "\n"
          ],
          "name": "stdout"
        },
        {
          "output_type": "execute_result",
          "data": {
            "text/plain": [
              "33.0    443\n",
              "30.0    439\n",
              "31.0    426\n",
              "28.0    425\n",
              "34.0    425\n",
              "35.0    419\n",
              "29.0    412\n",
              "26.0    411\n",
              "32.0    404\n",
              "27.0    390\n",
              "39.0    336\n",
              "36.0    316\n",
              "41.0    314\n",
              "44.0    304\n",
              "43.0    298\n",
              "42.0    296\n",
              "37.0    295\n",
              "45.0    290\n",
              "40.0    280\n",
              "38.0    277\n",
              "0.0     253\n",
              "47.0    238\n",
              "55.0    223\n",
              "48.0    217\n",
              "46.0    216\n",
              "51.0    215\n",
              "50.0    213\n",
              "54.0    213\n",
              "52.0    204\n",
              "49.0    196\n",
              "       ... \n",
              "64.0    107\n",
              "65.0    105\n",
              "63.0    102\n",
              "24.0     97\n",
              "21.0     95\n",
              "58.0     93\n",
              "23.0     92\n",
              "62.0     87\n",
              "22.0     87\n",
              "25.0     74\n",
              "72.0     35\n",
              "18.0     34\n",
              "76.0     32\n",
              "66.0     32\n",
              "71.0     30\n",
              "74.0     28\n",
              "69.0     28\n",
              "78.0     26\n",
              "68.0     25\n",
              "73.0     25\n",
              "80.0     25\n",
              "19.0     24\n",
              "67.0     24\n",
              "70.0     23\n",
              "75.0     23\n",
              "77.0     20\n",
              "20.0     15\n",
              "79.0     12\n",
              "16.0      8\n",
              "17.0      5\n",
              "Name: Age, Length: 66, dtype: int64"
            ]
          },
          "metadata": {
            "tags": []
          },
          "execution_count": 9
        },
        {
          "output_type": "stream",
          "text": [
            "\n",
            "\n"
          ],
          "name": "stdout"
        },
        {
          "output_type": "execute_result",
          "data": {
            "text/plain": [
              "Policy Holder    8394\n",
              "Third Party      3171\n",
              "Name: Fault, dtype: int64"
            ]
          },
          "metadata": {
            "tags": []
          },
          "execution_count": 9
        },
        {
          "output_type": "stream",
          "text": [
            "\n",
            "\n"
          ],
          "name": "stdout"
        },
        {
          "output_type": "execute_result",
          "data": {
            "text/plain": [
              "Sedan - Collision       4186\n",
              "Sedan - Liability       3742\n",
              "Sedan - All Perils      3067\n",
              "Sport - Collision        262\n",
              "Utility - All Perils     251\n",
              "Utility - Collision       24\n",
              "Sport - All Perils        19\n",
              "Utility - Liability       13\n",
              "Sport - Liability          1\n",
              "Name: PolicyType, dtype: int64"
            ]
          },
          "metadata": {
            "tags": []
          },
          "execution_count": 9
        },
        {
          "output_type": "stream",
          "text": [
            "\n",
            "\n"
          ],
          "name": "stdout"
        },
        {
          "output_type": "execute_result",
          "data": {
            "text/plain": [
              "Sedan      7253\n",
              "Sport      4024\n",
              "Utility     288\n",
              "Name: VehicleCategory, dtype: int64"
            ]
          },
          "metadata": {
            "tags": []
          },
          "execution_count": 9
        },
        {
          "output_type": "stream",
          "text": [
            "\n",
            "\n"
          ],
          "name": "stdout"
        },
        {
          "output_type": "execute_result",
          "data": {
            "text/plain": [
              "20000 to 29000     6112\n",
              "30000 to 39000     2640\n",
              "more than 69000    1605\n",
              "less than 20000     800\n",
              "40000 to 59000      349\n",
              "60000 to 69000       59\n",
              "Name: VehiclePrice, dtype: int64"
            ]
          },
          "metadata": {
            "tags": []
          },
          "execution_count": 9
        },
        {
          "output_type": "stream",
          "text": [
            "\n",
            "\n"
          ],
          "name": "stdout"
        },
        {
          "output_type": "execute_result",
          "data": {
            "text/plain": [
              "0    10880\n",
              "1      685\n",
              "Name: FraudFound_P, dtype: int64"
            ]
          },
          "metadata": {
            "tags": []
          },
          "execution_count": 9
        },
        {
          "output_type": "stream",
          "text": [
            "\n",
            "\n"
          ],
          "name": "stdout"
        },
        {
          "output_type": "execute_result",
          "data": {
            "text/plain": [
              "2047     1\n",
              "11519    1\n",
              "3323     1\n",
              "1274     1\n",
              "7417     1\n",
              "5368     1\n",
              "9462     1\n",
              "13556    1\n",
              "3315     1\n",
              "5360     1\n",
              "11503    1\n",
              "9454     1\n",
              "1258     1\n",
              "7401     1\n",
              "5352     1\n",
              "11495    1\n",
              "9446     1\n",
              "13540    1\n",
              "3299     1\n",
              "1250     1\n",
              "5344     1\n",
              "13564    1\n",
              "7425     1\n",
              "9366     1\n",
              "1282     1\n",
              "11551    1\n",
              "9502     1\n",
              "13596    1\n",
              "1306     1\n",
              "7449     1\n",
              "        ..\n",
              "4711     1\n",
              "6758     1\n",
              "2660     1\n",
              "12899    1\n",
              "8801     1\n",
              "10848    1\n",
              "6750     1\n",
              "4727     1\n",
              "10872    1\n",
              "14970    1\n",
              "8841     1\n",
              "10904    1\n",
              "661      1\n",
              "8849     1\n",
              "10896    1\n",
              "6798     1\n",
              "653      1\n",
              "12939    1\n",
              "14986    1\n",
              "6790     1\n",
              "12923    1\n",
              "645      1\n",
              "2692     1\n",
              "14978    1\n",
              "8833     1\n",
              "10880    1\n",
              "6782     1\n",
              "637      1\n",
              "2684     1\n",
              "4098     1\n",
              "Name: PolicyNumber, Length: 11565, dtype: int64"
            ]
          },
          "metadata": {
            "tags": []
          },
          "execution_count": 9
        },
        {
          "output_type": "stream",
          "text": [
            "\n",
            "\n"
          ],
          "name": "stdout"
        },
        {
          "output_type": "execute_result",
          "data": {
            "text/plain": [
              "7     800\n",
              "9     760\n",
              "1     754\n",
              "16    739\n",
              "3     733\n",
              "15    729\n",
              "5     729\n",
              "10    728\n",
              "2     714\n",
              "14    713\n",
              "12    708\n",
              "6     703\n",
              "11    697\n",
              "4     696\n",
              "13    681\n",
              "8     681\n",
              "Name: RepNumber, dtype: int64"
            ]
          },
          "metadata": {
            "tags": []
          },
          "execution_count": 9
        },
        {
          "output_type": "stream",
          "text": [
            "\n",
            "\n"
          ],
          "name": "stdout"
        },
        {
          "output_type": "execute_result",
          "data": {
            "text/plain": [
              "400    11128\n",
              "700      226\n",
              "500      207\n",
              "300        4\n",
              "Name: Deductible, dtype: int64"
            ]
          },
          "metadata": {
            "tags": []
          },
          "execution_count": 9
        },
        {
          "output_type": "stream",
          "text": [
            "\n",
            "\n"
          ],
          "name": "stdout"
        },
        {
          "output_type": "execute_result",
          "data": {
            "text/plain": [
              "3.0    2928\n",
              "1.0    2928\n",
              "4.0    2852\n",
              "2.0    2851\n",
              "Name: DriverRating, dtype: int64"
            ]
          },
          "metadata": {
            "tags": []
          },
          "execution_count": 9
        },
        {
          "output_type": "stream",
          "text": [
            "\n",
            "\n"
          ],
          "name": "stdout"
        },
        {
          "output_type": "execute_result",
          "data": {
            "text/plain": [
              "more than 30    11439\n",
              "8 to 15            44\n",
              "none               39\n",
              "15 to 30           32\n",
              "1 to 7             11\n",
              "Name: Days_Policy_Accident, dtype: int64"
            ]
          },
          "metadata": {
            "tags": []
          },
          "execution_count": 9
        },
        {
          "output_type": "stream",
          "text": [
            "\n",
            "\n"
          ],
          "name": "stdout"
        },
        {
          "output_type": "execute_result",
          "data": {
            "text/plain": [
              "more than 30    11504\n",
              "15 to 30           47\n",
              "8 to 15            13\n",
              "none                1\n",
              "Name: Days_Policy_Claim, dtype: int64"
            ]
          },
          "metadata": {
            "tags": []
          },
          "execution_count": 9
        },
        {
          "output_type": "stream",
          "text": [
            "\n",
            "\n"
          ],
          "name": "stdout"
        },
        {
          "output_type": "execute_result",
          "data": {
            "text/plain": [
              "2 to 4         4140\n",
              "none           3286\n",
              "1              2675\n",
              "more than 4    1464\n",
              "Name: PastNumberOfClaims, dtype: int64"
            ]
          },
          "metadata": {
            "tags": []
          },
          "execution_count": 9
        },
        {
          "output_type": "stream",
          "text": [
            "\n",
            "\n"
          ],
          "name": "stdout"
        },
        {
          "output_type": "execute_result",
          "data": {
            "text/plain": [
              "7 years        4388\n",
              "more than 7    2993\n",
              "6 years        2581\n",
              "5 years         990\n",
              "new             285\n",
              "4 years         176\n",
              "3 years         100\n",
              "2 years          52\n",
              "Name: AgeOfVehicle, dtype: int64"
            ]
          },
          "metadata": {
            "tags": []
          },
          "execution_count": 9
        },
        {
          "output_type": "stream",
          "text": [
            "\n",
            "\n"
          ],
          "name": "stdout"
        },
        {
          "output_type": "execute_result",
          "data": {
            "text/plain": [
              "31 to 35    4199\n",
              "36 to 40    3008\n",
              "41 to 50    2122\n",
              "51 to 65    1070\n",
              "26 to 30     445\n",
              "over 65      388\n",
              "16 to 17     247\n",
              "21 to 25      73\n",
              "18 to 20      13\n",
              "Name: AgeOfPolicyHolder, dtype: int64"
            ]
          },
          "metadata": {
            "tags": []
          },
          "execution_count": 9
        },
        {
          "output_type": "stream",
          "text": [
            "\n",
            "\n"
          ],
          "name": "stdout"
        },
        {
          "output_type": "execute_result",
          "data": {
            "text/plain": [
              "No     11235\n",
              "Yes      330\n",
              "Name: PoliceReportFiled, dtype: int64"
            ]
          },
          "metadata": {
            "tags": []
          },
          "execution_count": 9
        },
        {
          "output_type": "stream",
          "text": [
            "\n",
            "\n"
          ],
          "name": "stdout"
        },
        {
          "output_type": "execute_result",
          "data": {
            "text/plain": [
              "No     11497\n",
              "Yes       68\n",
              "Name: WitnessPresent, dtype: int64"
            ]
          },
          "metadata": {
            "tags": []
          },
          "execution_count": 9
        },
        {
          "output_type": "stream",
          "text": [
            "\n",
            "\n"
          ],
          "name": "stdout"
        },
        {
          "output_type": "execute_result",
          "data": {
            "text/plain": [
              "External    11394\n",
              "Internal      171\n",
              "Name: AgentType, dtype: int64"
            ]
          },
          "metadata": {
            "tags": []
          },
          "execution_count": 9
        },
        {
          "output_type": "stream",
          "text": [
            "\n",
            "\n"
          ],
          "name": "stdout"
        },
        {
          "output_type": "execute_result",
          "data": {
            "text/plain": [
              "none           5330\n",
              "more than 5    2875\n",
              "1 to 2         1846\n",
              "3 to 5         1514\n",
              "Name: NumberOfSuppliments, dtype: int64"
            ]
          },
          "metadata": {
            "tags": []
          },
          "execution_count": 9
        },
        {
          "output_type": "stream",
          "text": [
            "\n",
            "\n"
          ],
          "name": "stdout"
        },
        {
          "output_type": "execute_result",
          "data": {
            "text/plain": [
              "no change         10715\n",
              "4 to 8 years        496\n",
              "2 to 3 years        222\n",
              "1 year              128\n",
              "under 6 months        4\n",
              "Name: AddressChange_Claim, dtype: int64"
            ]
          },
          "metadata": {
            "tags": []
          },
          "execution_count": 9
        },
        {
          "output_type": "stream",
          "text": [
            "\n",
            "\n"
          ],
          "name": "stdout"
        },
        {
          "output_type": "execute_result",
          "data": {
            "text/plain": [
              "1 vehicle      10698\n",
              "2 vehicles       559\n",
              "3 to 4           288\n",
              "5 to 8            19\n",
              "more than 8        1\n",
              "Name: NumberOfCars, dtype: int64"
            ]
          },
          "metadata": {
            "tags": []
          },
          "execution_count": 9
        },
        {
          "output_type": "stream",
          "text": [
            "\n",
            "\n"
          ],
          "name": "stdout"
        },
        {
          "output_type": "execute_result",
          "data": {
            "text/plain": [
              "1994    4596\n",
              "1995    3923\n",
              "1996    3046\n",
              "Name: Year, dtype: int64"
            ]
          },
          "metadata": {
            "tags": []
          },
          "execution_count": 9
        },
        {
          "output_type": "stream",
          "text": [
            "\n",
            "\n"
          ],
          "name": "stdout"
        },
        {
          "output_type": "execute_result",
          "data": {
            "text/plain": [
              "Collision     4472\n",
              "Liability     3756\n",
              "All Perils    3337\n",
              "Name: BasePolicy, dtype: int64"
            ]
          },
          "metadata": {
            "tags": []
          },
          "execution_count": 9
        },
        {
          "output_type": "stream",
          "text": [
            "\n",
            "\n"
          ],
          "name": "stdout"
        },
        {
          "output_type": "execute_result",
          "data": {
            "text/plain": [
              "98545.374339    20\n",
              "82211.859262    20\n",
              "87808.106898    19\n",
              "62888.307996    19\n",
              "58488.924392    19\n",
              "77167.223246    19\n",
              "65937.521016    19\n",
              "64586.618621    19\n",
              "69101.981954    19\n",
              "59263.702434    19\n",
              "85555.916236    19\n",
              "80258.158579    18\n",
              "69029.591397    18\n",
              "54029.946625    18\n",
              "52942.992707    17\n",
              "57166.760954    17\n",
              "79417.328822    17\n",
              "50754.804030    17\n",
              "74391.153047    16\n",
              "65677.761527    16\n",
              "73871.310119    16\n",
              "55057.673813    16\n",
              "54340.812032    16\n",
              "52494.337422    16\n",
              "69927.894072    16\n",
              "50099.557057    16\n",
              "78329.309493    16\n",
              "65821.087931    16\n",
              "51716.570769    16\n",
              "53715.138636    16\n",
              "                ..\n",
              "8878.251157      1\n",
              "25977.602932     1\n",
              "12786.845295     1\n",
              "28728.657410     1\n",
              "13550.495790     1\n",
              "23291.590471     1\n",
              "34415.848035     1\n",
              "11175.285339     1\n",
              "10700.434942     1\n",
              "10491.175933     1\n",
              "24168.642863     1\n",
              "28543.069182     1\n",
              "28038.549562     1\n",
              "11533.815521     1\n",
              "13716.726999     1\n",
              "5109.107197      1\n",
              "10248.027671     1\n",
              "24246.957107     1\n",
              "15790.507668     1\n",
              "24606.015403     1\n",
              "9115.514155      1\n",
              "5158.658873      1\n",
              "37798.938333     1\n",
              "12412.421826     1\n",
              "22384.576643     1\n",
              "47112.894351     1\n",
              "14969.817340     1\n",
              "18146.825989     1\n",
              "11291.559600     1\n",
              "13844.547636     1\n",
              "Name: ClaimSize, Length: 3332, dtype: int64"
            ]
          },
          "metadata": {
            "tags": []
          },
          "execution_count": 9
        }
      ]
    },
    {
      "metadata": {
        "id": "PFcpym465vB4",
        "colab_type": "code",
        "outputId": "ebc216fe-090b-4dc7-a1c9-dcbe4f1544e6",
        "colab": {
          "base_uri": "https://localhost:8080/",
          "height": 34
        }
      },
      "cell_type": "code",
      "source": [
        "2811+2545+2232+2000+1842+94+40+1\n",
        "#Don't know what this zero is in Days of week Claimed and Month Claimed"
      ],
      "execution_count": 10,
      "outputs": [
        {
          "output_type": "execute_result",
          "data": {
            "text/plain": [
              "11565"
            ]
          },
          "metadata": {
            "tags": []
          },
          "execution_count": 10
        }
      ]
    },
    {
      "metadata": {
        "id": "i8Uyl8eMEZ8U",
        "colab_type": "code",
        "outputId": "bf699c8c-ecdd-4a4a-c812-51d581f011f3",
        "colab": {
          "base_uri": "https://localhost:8080/",
          "height": 117
        }
      },
      "cell_type": "code",
      "source": [
        "dataset[dataset[\"MonthClaimed\"]==0]"
      ],
      "execution_count": 11,
      "outputs": [
        {
          "output_type": "execute_result",
          "data": {
            "text/html": [
              "<div>\n",
              "<style scoped>\n",
              "    .dataframe tbody tr th:only-of-type {\n",
              "        vertical-align: middle;\n",
              "    }\n",
              "\n",
              "    .dataframe tbody tr th {\n",
              "        vertical-align: top;\n",
              "    }\n",
              "\n",
              "    .dataframe thead th {\n",
              "        text-align: right;\n",
              "    }\n",
              "</style>\n",
              "<table border=\"1\" class=\"dataframe\">\n",
              "  <thead>\n",
              "    <tr style=\"text-align: right;\">\n",
              "      <th></th>\n",
              "      <th>Month</th>\n",
              "      <th>WeekOfMonth</th>\n",
              "      <th>DayOfWeek</th>\n",
              "      <th>Make</th>\n",
              "      <th>AccidentArea</th>\n",
              "      <th>DayOfWeekClaimed</th>\n",
              "      <th>MonthClaimed</th>\n",
              "      <th>WeekOfMonthClaimed</th>\n",
              "      <th>Sex</th>\n",
              "      <th>MaritalStatus</th>\n",
              "      <th>Age</th>\n",
              "      <th>Fault</th>\n",
              "      <th>PolicyType</th>\n",
              "      <th>VehicleCategory</th>\n",
              "      <th>VehiclePrice</th>\n",
              "      <th>FraudFound_P</th>\n",
              "      <th>PolicyNumber</th>\n",
              "      <th>RepNumber</th>\n",
              "      <th>Deductible</th>\n",
              "      <th>DriverRating</th>\n",
              "      <th>Days_Policy_Accident</th>\n",
              "      <th>Days_Policy_Claim</th>\n",
              "      <th>PastNumberOfClaims</th>\n",
              "      <th>AgeOfVehicle</th>\n",
              "      <th>AgeOfPolicyHolder</th>\n",
              "      <th>PoliceReportFiled</th>\n",
              "      <th>WitnessPresent</th>\n",
              "      <th>AgentType</th>\n",
              "      <th>NumberOfSuppliments</th>\n",
              "      <th>AddressChange_Claim</th>\n",
              "      <th>NumberOfCars</th>\n",
              "      <th>Year</th>\n",
              "      <th>BasePolicy</th>\n",
              "      <th>ClaimSize</th>\n",
              "    </tr>\n",
              "  </thead>\n",
              "  <tbody>\n",
              "    <tr>\n",
              "      <th>1146</th>\n",
              "      <td>Jul</td>\n",
              "      <td>2</td>\n",
              "      <td>Monday</td>\n",
              "      <td>Honda</td>\n",
              "      <td>Rural</td>\n",
              "      <td>0</td>\n",
              "      <td>0</td>\n",
              "      <td>1</td>\n",
              "      <td>Male</td>\n",
              "      <td>Single</td>\n",
              "      <td>0.0</td>\n",
              "      <td>Policy Holder</td>\n",
              "      <td>Sedan - All Perils</td>\n",
              "      <td>Sedan</td>\n",
              "      <td>more than 69000</td>\n",
              "      <td>0</td>\n",
              "      <td>1517</td>\n",
              "      <td>15</td>\n",
              "      <td>400</td>\n",
              "      <td>2.0</td>\n",
              "      <td>more than 30</td>\n",
              "      <td>none</td>\n",
              "      <td>none</td>\n",
              "      <td>new</td>\n",
              "      <td>16 to 17</td>\n",
              "      <td>No</td>\n",
              "      <td>No</td>\n",
              "      <td>External</td>\n",
              "      <td>none</td>\n",
              "      <td>no change</td>\n",
              "      <td>1 vehicle</td>\n",
              "      <td>1994</td>\n",
              "      <td>All Perils</td>\n",
              "      <td>70530.646951</td>\n",
              "    </tr>\n",
              "  </tbody>\n",
              "</table>\n",
              "</div>"
            ],
            "text/plain": [
              "     Month  WeekOfMonth DayOfWeek   Make AccidentArea DayOfWeekClaimed  \\\n",
              "1146   Jul            2    Monday  Honda        Rural                0   \n",
              "\n",
              "     MonthClaimed  WeekOfMonthClaimed   Sex MaritalStatus  Age          Fault  \\\n",
              "1146            0                   1  Male        Single  0.0  Policy Holder   \n",
              "\n",
              "              PolicyType VehicleCategory     VehiclePrice  FraudFound_P  \\\n",
              "1146  Sedan - All Perils           Sedan  more than 69000             0   \n",
              "\n",
              "      PolicyNumber  RepNumber  Deductible  DriverRating Days_Policy_Accident  \\\n",
              "1146          1517         15         400           2.0         more than 30   \n",
              "\n",
              "     Days_Policy_Claim PastNumberOfClaims AgeOfVehicle AgeOfPolicyHolder  \\\n",
              "1146              none               none          new          16 to 17   \n",
              "\n",
              "     PoliceReportFiled WitnessPresent AgentType NumberOfSuppliments  \\\n",
              "1146                No             No  External                none   \n",
              "\n",
              "     AddressChange_Claim NumberOfCars  Year  BasePolicy     ClaimSize  \n",
              "1146           no change    1 vehicle  1994  All Perils  70530.646951  "
            ]
          },
          "metadata": {
            "tags": []
          },
          "execution_count": 11
        }
      ]
    },
    {
      "metadata": {
        "id": "ucEh1rlXGFeF",
        "colab_type": "code",
        "colab": {}
      },
      "cell_type": "code",
      "source": [
        "\n",
        "dataset.loc[dataset.index[1146],\"MonthClaimed\"]='Aug'\n"
      ],
      "execution_count": 0,
      "outputs": []
    },
    {
      "metadata": {
        "id": "G0Yw9W0KHIFg",
        "colab_type": "code",
        "colab": {}
      },
      "cell_type": "code",
      "source": [
        "dataset.loc[dataset.index[1146],\"DayOfWeekClaimed\"]='Monday'\n",
        "\n",
        "\n"
      ],
      "execution_count": 0,
      "outputs": []
    },
    {
      "metadata": {
        "id": "lXnbbh6UJMI6",
        "colab_type": "code",
        "outputId": "bb8b9c66-47fe-4852-df5e-8034c98c60c2",
        "colab": {
          "base_uri": "https://localhost:8080/",
          "height": 357
        }
      },
      "cell_type": "code",
      "source": [
        "\n",
        "dataset[\"MonthClaimed\"].value_counts()\n",
        "dataset[\"DayOfWeekClaimed\"].value_counts()"
      ],
      "execution_count": 14,
      "outputs": [
        {
          "output_type": "execute_result",
          "data": {
            "text/plain": [
              "Jan    1084\n",
              "May    1038\n",
              "Mar    1005\n",
              "Oct     995\n",
              "Nov     973\n",
              "Apr     970\n",
              "Jun     967\n",
              "Feb     955\n",
              "Sep     944\n",
              "Jul     908\n",
              "Dec     879\n",
              "Aug     847\n",
              "Name: MonthClaimed, dtype: int64"
            ]
          },
          "metadata": {
            "tags": []
          },
          "execution_count": 14
        },
        {
          "output_type": "execute_result",
          "data": {
            "text/plain": [
              "Monday       2812\n",
              "Tuesday      2545\n",
              "Wednesday    2232\n",
              "Thursday     2000\n",
              "Friday       1842\n",
              "Saturday       94\n",
              "Sunday         40\n",
              "Name: DayOfWeekClaimed, dtype: int64"
            ]
          },
          "metadata": {
            "tags": []
          },
          "execution_count": 14
        }
      ]
    },
    {
      "metadata": {
        "id": "G_ffoQj-ctVn",
        "colab_type": "code",
        "outputId": "5a9eeae7-2bd5-4590-ca1d-024b9f078474",
        "colab": {
          "base_uri": "https://localhost:8080/",
          "height": 680
        }
      },
      "cell_type": "code",
      "source": [
        "#dropping rows with nan values\n",
        "dataset=dataset.dropna(axis=0,how='any')\n",
        "dataset.info()"
      ],
      "execution_count": 15,
      "outputs": [
        {
          "output_type": "stream",
          "text": [
            "<class 'pandas.core.frame.DataFrame'>\n",
            "Int64Index: 11554 entries, 0 to 11564\n",
            "Data columns (total 34 columns):\n",
            "Month                   11554 non-null object\n",
            "WeekOfMonth             11554 non-null int64\n",
            "DayOfWeek               11554 non-null object\n",
            "Make                    11554 non-null object\n",
            "AccidentArea            11554 non-null object\n",
            "DayOfWeekClaimed        11554 non-null object\n",
            "MonthClaimed            11554 non-null object\n",
            "WeekOfMonthClaimed      11554 non-null int64\n",
            "Sex                     11554 non-null object\n",
            "MaritalStatus           11554 non-null object\n",
            "Age                     11554 non-null float64\n",
            "Fault                   11554 non-null object\n",
            "PolicyType              11554 non-null object\n",
            "VehicleCategory         11554 non-null object\n",
            "VehiclePrice            11554 non-null object\n",
            "FraudFound_P            11554 non-null int64\n",
            "PolicyNumber            11554 non-null int64\n",
            "RepNumber               11554 non-null int64\n",
            "Deductible              11554 non-null int64\n",
            "DriverRating            11554 non-null float64\n",
            "Days_Policy_Accident    11554 non-null object\n",
            "Days_Policy_Claim       11554 non-null object\n",
            "PastNumberOfClaims      11554 non-null object\n",
            "AgeOfVehicle            11554 non-null object\n",
            "AgeOfPolicyHolder       11554 non-null object\n",
            "PoliceReportFiled       11554 non-null object\n",
            "WitnessPresent          11554 non-null object\n",
            "AgentType               11554 non-null object\n",
            "NumberOfSuppliments     11554 non-null object\n",
            "AddressChange_Claim     11554 non-null object\n",
            "NumberOfCars            11554 non-null object\n",
            "Year                    11554 non-null int64\n",
            "BasePolicy              11554 non-null object\n",
            "ClaimSize               11554 non-null float64\n",
            "dtypes: float64(3), int64(7), object(24)\n",
            "memory usage: 3.1+ MB\n"
          ],
          "name": "stdout"
        }
      ]
    },
    {
      "metadata": {
        "id": "msB3rDixDYhV",
        "colab_type": "code",
        "outputId": "a3c38b33-b2c9-43f0-9595-bf349b26d518",
        "colab": {
          "base_uri": "https://localhost:8080/",
          "height": 238
        }
      },
      "cell_type": "code",
      "source": [
        "#analysing month\n",
        "dataset[\"Month\"].value_counts()"
      ],
      "execution_count": 16,
      "outputs": [
        {
          "output_type": "execute_result",
          "data": {
            "text/plain": [
              "Jan    1054\n",
              "May    1026\n",
              "Mar     995\n",
              "Jun     981\n",
              "Oct     972\n",
              "Dec     968\n",
              "Apr     959\n",
              "Sep     950\n",
              "Feb     949\n",
              "Jul     938\n",
              "Nov     913\n",
              "Aug     849\n",
              "Name: Month, dtype: int64"
            ]
          },
          "metadata": {
            "tags": []
          },
          "execution_count": 16
        }
      ]
    },
    {
      "metadata": {
        "id": "lcD3zsvtJYa4",
        "colab_type": "code",
        "colab": {}
      },
      "cell_type": "code",
      "source": [
        "#one hot encoding month\n",
        "dataset=pd.get_dummies(dataset,columns=[\"Month\"])"
      ],
      "execution_count": 0,
      "outputs": []
    },
    {
      "metadata": {
        "id": "I8C-5JpmJ5FU",
        "colab_type": "code",
        "outputId": "dc2257d3-1e1c-4c6a-ab64-99048ffeeb42",
        "colab": {
          "base_uri": "https://localhost:8080/",
          "height": 68
        }
      },
      "cell_type": "code",
      "source": [
        "dataset[\"Month_Apr\"].value_counts()"
      ],
      "execution_count": 18,
      "outputs": [
        {
          "output_type": "execute_result",
          "data": {
            "text/plain": [
              "0    10595\n",
              "1      959\n",
              "Name: Month_Apr, dtype: int64"
            ]
          },
          "metadata": {
            "tags": []
          },
          "execution_count": 18
        }
      ]
    },
    {
      "metadata": {
        "id": "1LbpjOueJ_8O",
        "colab_type": "code",
        "outputId": "ed975ce0-255f-4890-cf32-db80864b8337",
        "colab": {
          "base_uri": "https://localhost:8080/",
          "height": 119
        }
      },
      "cell_type": "code",
      "source": [
        "#analysing week of month\n",
        "dataset[\"WeekOfMonth\"].value_counts()"
      ],
      "execution_count": 19,
      "outputs": [
        {
          "output_type": "execute_result",
          "data": {
            "text/plain": [
              "3    2749\n",
              "2    2678\n",
              "4    2525\n",
              "1    2386\n",
              "5    1216\n",
              "Name: WeekOfMonth, dtype: int64"
            ]
          },
          "metadata": {
            "tags": []
          },
          "execution_count": 19
        }
      ]
    },
    {
      "metadata": {
        "id": "aoCGOUifKSux",
        "colab_type": "code",
        "colab": {}
      },
      "cell_type": "code",
      "source": [
        "dataset=pd.get_dummies(dataset,columns=[\"WeekOfMonth\"])"
      ],
      "execution_count": 0,
      "outputs": []
    },
    {
      "metadata": {
        "id": "XFcCSaZYKgC6",
        "colab_type": "code",
        "outputId": "ddf04440-b8bb-41da-fff8-9e317f55b7f2",
        "colab": {
          "base_uri": "https://localhost:8080/",
          "height": 153
        }
      },
      "cell_type": "code",
      "source": [
        "dataset[\"DayOfWeek\"].value_counts()"
      ],
      "execution_count": 21,
      "outputs": [
        {
          "output_type": "execute_result",
          "data": {
            "text/plain": [
              "Monday       1996\n",
              "Friday       1838\n",
              "Tuesday      1736\n",
              "Thursday     1621\n",
              "Wednesday    1564\n",
              "Saturday     1469\n",
              "Sunday       1330\n",
              "Name: DayOfWeek, dtype: int64"
            ]
          },
          "metadata": {
            "tags": []
          },
          "execution_count": 21
        }
      ]
    },
    {
      "metadata": {
        "id": "kpZ-9PiAKowv",
        "colab_type": "code",
        "colab": {}
      },
      "cell_type": "code",
      "source": [
        "dataset=pd.get_dummies(dataset,columns=[\"DayOfWeek\"])"
      ],
      "execution_count": 0,
      "outputs": []
    },
    {
      "metadata": {
        "id": "MKifSuW0KxpR",
        "colab_type": "code",
        "colab": {}
      },
      "cell_type": "code",
      "source": [
        "dataset=pd.get_dummies(dataset,columns=[\"Make\",'DayOfWeekClaimed','MonthClaimed','WeekOfMonthClaimed','MaritalStatus','PolicyType','VehicleCategory'])"
      ],
      "execution_count": 0,
      "outputs": []
    },
    {
      "metadata": {
        "id": "8SbJleyMNKv6",
        "colab_type": "code",
        "outputId": "09357fc6-16c1-4a90-9551-9c8e7beea6e8",
        "colab": {
          "base_uri": "https://localhost:8080/",
          "height": 102
        }
      },
      "cell_type": "code",
      "source": [
        "from sklearn.preprocessing import LabelEncoder\n",
        "le=LabelEncoder()\n",
        "var_mod=[\"Fault\",'AccidentArea','Sex','PoliceReportFiled','WitnessPresent','AgentType']\n",
        "for i in var_mod:\n",
        "    dataset[i]=le.fit_transform(dataset[i])\n",
        "\n",
        "dataset=pd.get_dummies(dataset,columns=[\"BasePolicy\"])\n",
        "dataset.info()"
      ],
      "execution_count": 24,
      "outputs": [
        {
          "output_type": "stream",
          "text": [
            "<class 'pandas.core.frame.DataFrame'>\n",
            "Int64Index: 11554 entries, 0 to 11564\n",
            "Columns: 109 entries, AccidentArea to BasePolicy_Liability\n",
            "dtypes: float64(3), int64(11), object(9), uint8(86)\n",
            "memory usage: 3.1+ MB\n"
          ],
          "name": "stdout"
        }
      ]
    },
    {
      "metadata": {
        "id": "mu9MoWrIXeCc",
        "colab_type": "code",
        "outputId": "4eeeed84-0c0a-4668-bd41-b518efee5ea0",
        "colab": {
          "base_uri": "https://localhost:8080/",
          "height": 136
        }
      },
      "cell_type": "code",
      "source": [
        "dataset[\"VehiclePrice\"].value_counts()"
      ],
      "execution_count": 25,
      "outputs": [
        {
          "output_type": "execute_result",
          "data": {
            "text/plain": [
              "20000 to 29000     6104\n",
              "30000 to 39000     2640\n",
              "more than 69000    1605\n",
              "less than 20000     798\n",
              "40000 to 59000      348\n",
              "60000 to 69000       59\n",
              "Name: VehiclePrice, dtype: int64"
            ]
          },
          "metadata": {
            "tags": []
          },
          "execution_count": 25
        }
      ]
    },
    {
      "metadata": {
        "id": "noD-VIxmX7LE",
        "colab_type": "code",
        "outputId": "a9139325-8cc2-49e8-af0d-dafd40e7d2a7",
        "colab": {
          "base_uri": "https://localhost:8080/",
          "height": 309
        }
      },
      "cell_type": "code",
      "source": [
        "dataset.head()"
      ],
      "execution_count": 26,
      "outputs": [
        {
          "output_type": "execute_result",
          "data": {
            "text/html": [
              "<div>\n",
              "<style scoped>\n",
              "    .dataframe tbody tr th:only-of-type {\n",
              "        vertical-align: middle;\n",
              "    }\n",
              "\n",
              "    .dataframe tbody tr th {\n",
              "        vertical-align: top;\n",
              "    }\n",
              "\n",
              "    .dataframe thead th {\n",
              "        text-align: right;\n",
              "    }\n",
              "</style>\n",
              "<table border=\"1\" class=\"dataframe\">\n",
              "  <thead>\n",
              "    <tr style=\"text-align: right;\">\n",
              "      <th></th>\n",
              "      <th>AccidentArea</th>\n",
              "      <th>Sex</th>\n",
              "      <th>Age</th>\n",
              "      <th>Fault</th>\n",
              "      <th>VehiclePrice</th>\n",
              "      <th>FraudFound_P</th>\n",
              "      <th>PolicyNumber</th>\n",
              "      <th>RepNumber</th>\n",
              "      <th>Deductible</th>\n",
              "      <th>DriverRating</th>\n",
              "      <th>Days_Policy_Accident</th>\n",
              "      <th>Days_Policy_Claim</th>\n",
              "      <th>PastNumberOfClaims</th>\n",
              "      <th>AgeOfVehicle</th>\n",
              "      <th>AgeOfPolicyHolder</th>\n",
              "      <th>PoliceReportFiled</th>\n",
              "      <th>WitnessPresent</th>\n",
              "      <th>AgentType</th>\n",
              "      <th>NumberOfSuppliments</th>\n",
              "      <th>AddressChange_Claim</th>\n",
              "      <th>NumberOfCars</th>\n",
              "      <th>Year</th>\n",
              "      <th>ClaimSize</th>\n",
              "      <th>Month_Apr</th>\n",
              "      <th>Month_Aug</th>\n",
              "      <th>Month_Dec</th>\n",
              "      <th>Month_Feb</th>\n",
              "      <th>Month_Jan</th>\n",
              "      <th>Month_Jul</th>\n",
              "      <th>Month_Jun</th>\n",
              "      <th>Month_Mar</th>\n",
              "      <th>Month_May</th>\n",
              "      <th>Month_Nov</th>\n",
              "      <th>Month_Oct</th>\n",
              "      <th>Month_Sep</th>\n",
              "      <th>WeekOfMonth_1</th>\n",
              "      <th>WeekOfMonth_2</th>\n",
              "      <th>WeekOfMonth_3</th>\n",
              "      <th>WeekOfMonth_4</th>\n",
              "      <th>WeekOfMonth_5</th>\n",
              "      <th>DayOfWeek_Friday</th>\n",
              "      <th>DayOfWeek_Monday</th>\n",
              "      <th>DayOfWeek_Saturday</th>\n",
              "      <th>DayOfWeek_Sunday</th>\n",
              "      <th>DayOfWeek_Thursday</th>\n",
              "      <th>DayOfWeek_Tuesday</th>\n",
              "      <th>DayOfWeek_Wednesday</th>\n",
              "      <th>Make_Accura</th>\n",
              "      <th>Make_BMW</th>\n",
              "      <th>Make_Chevrolet</th>\n",
              "      <th>Make_Dodge</th>\n",
              "      <th>Make_Ferrari</th>\n",
              "      <th>Make_Ford</th>\n",
              "      <th>Make_Honda</th>\n",
              "      <th>Make_Jaguar</th>\n",
              "      <th>Make_Lexus</th>\n",
              "      <th>Make_Mazda</th>\n",
              "      <th>Make_Mecedes</th>\n",
              "      <th>Make_Mercury</th>\n",
              "      <th>Make_Nisson</th>\n",
              "      <th>Make_Pontiac</th>\n",
              "      <th>Make_Porche</th>\n",
              "      <th>Make_Saab</th>\n",
              "      <th>Make_Saturn</th>\n",
              "      <th>Make_Toyota</th>\n",
              "      <th>Make_VW</th>\n",
              "      <th>DayOfWeekClaimed_Friday</th>\n",
              "      <th>DayOfWeekClaimed_Monday</th>\n",
              "      <th>DayOfWeekClaimed_Saturday</th>\n",
              "      <th>DayOfWeekClaimed_Sunday</th>\n",
              "      <th>DayOfWeekClaimed_Thursday</th>\n",
              "      <th>DayOfWeekClaimed_Tuesday</th>\n",
              "      <th>DayOfWeekClaimed_Wednesday</th>\n",
              "      <th>MonthClaimed_Apr</th>\n",
              "      <th>MonthClaimed_Aug</th>\n",
              "      <th>MonthClaimed_Dec</th>\n",
              "      <th>MonthClaimed_Feb</th>\n",
              "      <th>MonthClaimed_Jan</th>\n",
              "      <th>MonthClaimed_Jul</th>\n",
              "      <th>MonthClaimed_Jun</th>\n",
              "      <th>MonthClaimed_Mar</th>\n",
              "      <th>MonthClaimed_May</th>\n",
              "      <th>MonthClaimed_Nov</th>\n",
              "      <th>MonthClaimed_Oct</th>\n",
              "      <th>MonthClaimed_Sep</th>\n",
              "      <th>WeekOfMonthClaimed_1</th>\n",
              "      <th>WeekOfMonthClaimed_2</th>\n",
              "      <th>WeekOfMonthClaimed_3</th>\n",
              "      <th>WeekOfMonthClaimed_4</th>\n",
              "      <th>WeekOfMonthClaimed_5</th>\n",
              "      <th>MaritalStatus_Divorced</th>\n",
              "      <th>MaritalStatus_Married</th>\n",
              "      <th>MaritalStatus_Single</th>\n",
              "      <th>MaritalStatus_Widow</th>\n",
              "      <th>PolicyType_Sedan - All Perils</th>\n",
              "      <th>PolicyType_Sedan - Collision</th>\n",
              "      <th>PolicyType_Sedan - Liability</th>\n",
              "      <th>PolicyType_Sport - All Perils</th>\n",
              "      <th>PolicyType_Sport - Collision</th>\n",
              "      <th>PolicyType_Sport - Liability</th>\n",
              "      <th>PolicyType_Utility - All Perils</th>\n",
              "      <th>PolicyType_Utility - Collision</th>\n",
              "      <th>PolicyType_Utility - Liability</th>\n",
              "      <th>VehicleCategory_Sedan</th>\n",
              "      <th>VehicleCategory_Sport</th>\n",
              "      <th>VehicleCategory_Utility</th>\n",
              "      <th>BasePolicy_All Perils</th>\n",
              "      <th>BasePolicy_Collision</th>\n",
              "      <th>BasePolicy_Liability</th>\n",
              "    </tr>\n",
              "  </thead>\n",
              "  <tbody>\n",
              "    <tr>\n",
              "      <th>0</th>\n",
              "      <td>1</td>\n",
              "      <td>0</td>\n",
              "      <td>21.0</td>\n",
              "      <td>0</td>\n",
              "      <td>more than 69000</td>\n",
              "      <td>0</td>\n",
              "      <td>1</td>\n",
              "      <td>12</td>\n",
              "      <td>300</td>\n",
              "      <td>1.0</td>\n",
              "      <td>more than 30</td>\n",
              "      <td>more than 30</td>\n",
              "      <td>none</td>\n",
              "      <td>3 years</td>\n",
              "      <td>26 to 30</td>\n",
              "      <td>0</td>\n",
              "      <td>0</td>\n",
              "      <td>0</td>\n",
              "      <td>none</td>\n",
              "      <td>1 year</td>\n",
              "      <td>3 to 4</td>\n",
              "      <td>1994</td>\n",
              "      <td>55526.069421</td>\n",
              "      <td>0</td>\n",
              "      <td>0</td>\n",
              "      <td>1</td>\n",
              "      <td>0</td>\n",
              "      <td>0</td>\n",
              "      <td>0</td>\n",
              "      <td>0</td>\n",
              "      <td>0</td>\n",
              "      <td>0</td>\n",
              "      <td>0</td>\n",
              "      <td>0</td>\n",
              "      <td>0</td>\n",
              "      <td>0</td>\n",
              "      <td>0</td>\n",
              "      <td>0</td>\n",
              "      <td>0</td>\n",
              "      <td>1</td>\n",
              "      <td>0</td>\n",
              "      <td>0</td>\n",
              "      <td>0</td>\n",
              "      <td>0</td>\n",
              "      <td>0</td>\n",
              "      <td>0</td>\n",
              "      <td>1</td>\n",
              "      <td>0</td>\n",
              "      <td>0</td>\n",
              "      <td>0</td>\n",
              "      <td>0</td>\n",
              "      <td>0</td>\n",
              "      <td>0</td>\n",
              "      <td>1</td>\n",
              "      <td>0</td>\n",
              "      <td>0</td>\n",
              "      <td>0</td>\n",
              "      <td>0</td>\n",
              "      <td>0</td>\n",
              "      <td>0</td>\n",
              "      <td>0</td>\n",
              "      <td>0</td>\n",
              "      <td>0</td>\n",
              "      <td>0</td>\n",
              "      <td>0</td>\n",
              "      <td>0</td>\n",
              "      <td>0</td>\n",
              "      <td>0</td>\n",
              "      <td>0</td>\n",
              "      <td>0</td>\n",
              "      <td>0</td>\n",
              "      <td>1</td>\n",
              "      <td>0</td>\n",
              "      <td>0</td>\n",
              "      <td>0</td>\n",
              "      <td>0</td>\n",
              "      <td>0</td>\n",
              "      <td>1</td>\n",
              "      <td>0</td>\n",
              "      <td>0</td>\n",
              "      <td>0</td>\n",
              "      <td>0</td>\n",
              "      <td>0</td>\n",
              "      <td>0</td>\n",
              "      <td>0</td>\n",
              "      <td>1</td>\n",
              "      <td>0</td>\n",
              "      <td>0</td>\n",
              "      <td>0</td>\n",
              "      <td>0</td>\n",
              "      <td>0</td>\n",
              "      <td>0</td>\n",
              "      <td>1</td>\n",
              "      <td>0</td>\n",
              "      <td>0</td>\n",
              "      <td>0</td>\n",
              "      <td>0</td>\n",
              "      <td>0</td>\n",
              "      <td>0</td>\n",
              "      <td>1</td>\n",
              "      <td>0</td>\n",
              "      <td>0</td>\n",
              "      <td>0</td>\n",
              "      <td>0</td>\n",
              "      <td>1</td>\n",
              "      <td>0</td>\n",
              "      <td>0</td>\n",
              "      <td>0</td>\n",
              "      <td>1</td>\n",
              "    </tr>\n",
              "    <tr>\n",
              "      <th>1</th>\n",
              "      <td>1</td>\n",
              "      <td>1</td>\n",
              "      <td>34.0</td>\n",
              "      <td>0</td>\n",
              "      <td>more than 69000</td>\n",
              "      <td>0</td>\n",
              "      <td>2</td>\n",
              "      <td>15</td>\n",
              "      <td>400</td>\n",
              "      <td>4.0</td>\n",
              "      <td>more than 30</td>\n",
              "      <td>more than 30</td>\n",
              "      <td>none</td>\n",
              "      <td>6 years</td>\n",
              "      <td>31 to 35</td>\n",
              "      <td>1</td>\n",
              "      <td>0</td>\n",
              "      <td>0</td>\n",
              "      <td>none</td>\n",
              "      <td>no change</td>\n",
              "      <td>1 vehicle</td>\n",
              "      <td>1994</td>\n",
              "      <td>59294.455571</td>\n",
              "      <td>0</td>\n",
              "      <td>0</td>\n",
              "      <td>0</td>\n",
              "      <td>0</td>\n",
              "      <td>1</td>\n",
              "      <td>0</td>\n",
              "      <td>0</td>\n",
              "      <td>0</td>\n",
              "      <td>0</td>\n",
              "      <td>0</td>\n",
              "      <td>0</td>\n",
              "      <td>0</td>\n",
              "      <td>0</td>\n",
              "      <td>0</td>\n",
              "      <td>1</td>\n",
              "      <td>0</td>\n",
              "      <td>0</td>\n",
              "      <td>0</td>\n",
              "      <td>0</td>\n",
              "      <td>0</td>\n",
              "      <td>0</td>\n",
              "      <td>0</td>\n",
              "      <td>0</td>\n",
              "      <td>1</td>\n",
              "      <td>0</td>\n",
              "      <td>0</td>\n",
              "      <td>0</td>\n",
              "      <td>0</td>\n",
              "      <td>0</td>\n",
              "      <td>0</td>\n",
              "      <td>1</td>\n",
              "      <td>0</td>\n",
              "      <td>0</td>\n",
              "      <td>0</td>\n",
              "      <td>0</td>\n",
              "      <td>0</td>\n",
              "      <td>0</td>\n",
              "      <td>0</td>\n",
              "      <td>0</td>\n",
              "      <td>0</td>\n",
              "      <td>0</td>\n",
              "      <td>0</td>\n",
              "      <td>0</td>\n",
              "      <td>0</td>\n",
              "      <td>1</td>\n",
              "      <td>0</td>\n",
              "      <td>0</td>\n",
              "      <td>0</td>\n",
              "      <td>0</td>\n",
              "      <td>0</td>\n",
              "      <td>0</td>\n",
              "      <td>0</td>\n",
              "      <td>0</td>\n",
              "      <td>0</td>\n",
              "      <td>1</td>\n",
              "      <td>0</td>\n",
              "      <td>0</td>\n",
              "      <td>0</td>\n",
              "      <td>0</td>\n",
              "      <td>0</td>\n",
              "      <td>0</td>\n",
              "      <td>0</td>\n",
              "      <td>0</td>\n",
              "      <td>0</td>\n",
              "      <td>0</td>\n",
              "      <td>1</td>\n",
              "      <td>0</td>\n",
              "      <td>0</td>\n",
              "      <td>0</td>\n",
              "      <td>1</td>\n",
              "      <td>0</td>\n",
              "      <td>0</td>\n",
              "      <td>0</td>\n",
              "      <td>0</td>\n",
              "      <td>0</td>\n",
              "      <td>1</td>\n",
              "      <td>0</td>\n",
              "      <td>0</td>\n",
              "      <td>0</td>\n",
              "      <td>0</td>\n",
              "      <td>0</td>\n",
              "      <td>1</td>\n",
              "      <td>0</td>\n",
              "      <td>0</td>\n",
              "      <td>1</td>\n",
              "      <td>0</td>\n",
              "    </tr>\n",
              "    <tr>\n",
              "      <th>2</th>\n",
              "      <td>1</td>\n",
              "      <td>1</td>\n",
              "      <td>47.0</td>\n",
              "      <td>0</td>\n",
              "      <td>more than 69000</td>\n",
              "      <td>0</td>\n",
              "      <td>3</td>\n",
              "      <td>7</td>\n",
              "      <td>400</td>\n",
              "      <td>3.0</td>\n",
              "      <td>more than 30</td>\n",
              "      <td>more than 30</td>\n",
              "      <td>1</td>\n",
              "      <td>7 years</td>\n",
              "      <td>41 to 50</td>\n",
              "      <td>0</td>\n",
              "      <td>0</td>\n",
              "      <td>0</td>\n",
              "      <td>none</td>\n",
              "      <td>no change</td>\n",
              "      <td>1 vehicle</td>\n",
              "      <td>1994</td>\n",
              "      <td>71756.941320</td>\n",
              "      <td>0</td>\n",
              "      <td>0</td>\n",
              "      <td>0</td>\n",
              "      <td>0</td>\n",
              "      <td>0</td>\n",
              "      <td>0</td>\n",
              "      <td>0</td>\n",
              "      <td>0</td>\n",
              "      <td>0</td>\n",
              "      <td>0</td>\n",
              "      <td>1</td>\n",
              "      <td>0</td>\n",
              "      <td>0</td>\n",
              "      <td>0</td>\n",
              "      <td>0</td>\n",
              "      <td>0</td>\n",
              "      <td>1</td>\n",
              "      <td>1</td>\n",
              "      <td>0</td>\n",
              "      <td>0</td>\n",
              "      <td>0</td>\n",
              "      <td>0</td>\n",
              "      <td>0</td>\n",
              "      <td>0</td>\n",
              "      <td>0</td>\n",
              "      <td>0</td>\n",
              "      <td>0</td>\n",
              "      <td>0</td>\n",
              "      <td>0</td>\n",
              "      <td>0</td>\n",
              "      <td>1</td>\n",
              "      <td>0</td>\n",
              "      <td>0</td>\n",
              "      <td>0</td>\n",
              "      <td>0</td>\n",
              "      <td>0</td>\n",
              "      <td>0</td>\n",
              "      <td>0</td>\n",
              "      <td>0</td>\n",
              "      <td>0</td>\n",
              "      <td>0</td>\n",
              "      <td>0</td>\n",
              "      <td>0</td>\n",
              "      <td>0</td>\n",
              "      <td>0</td>\n",
              "      <td>0</td>\n",
              "      <td>0</td>\n",
              "      <td>1</td>\n",
              "      <td>0</td>\n",
              "      <td>0</td>\n",
              "      <td>0</td>\n",
              "      <td>0</td>\n",
              "      <td>0</td>\n",
              "      <td>0</td>\n",
              "      <td>0</td>\n",
              "      <td>0</td>\n",
              "      <td>0</td>\n",
              "      <td>0</td>\n",
              "      <td>0</td>\n",
              "      <td>1</td>\n",
              "      <td>0</td>\n",
              "      <td>0</td>\n",
              "      <td>0</td>\n",
              "      <td>1</td>\n",
              "      <td>0</td>\n",
              "      <td>0</td>\n",
              "      <td>0</td>\n",
              "      <td>0</td>\n",
              "      <td>1</td>\n",
              "      <td>0</td>\n",
              "      <td>0</td>\n",
              "      <td>0</td>\n",
              "      <td>0</td>\n",
              "      <td>0</td>\n",
              "      <td>0</td>\n",
              "      <td>1</td>\n",
              "      <td>0</td>\n",
              "      <td>0</td>\n",
              "      <td>0</td>\n",
              "      <td>0</td>\n",
              "      <td>0</td>\n",
              "      <td>1</td>\n",
              "      <td>0</td>\n",
              "      <td>0</td>\n",
              "      <td>1</td>\n",
              "      <td>0</td>\n",
              "    </tr>\n",
              "    <tr>\n",
              "      <th>3</th>\n",
              "      <td>0</td>\n",
              "      <td>1</td>\n",
              "      <td>65.0</td>\n",
              "      <td>1</td>\n",
              "      <td>20000 to 29000</td>\n",
              "      <td>0</td>\n",
              "      <td>4</td>\n",
              "      <td>4</td>\n",
              "      <td>400</td>\n",
              "      <td>2.0</td>\n",
              "      <td>more than 30</td>\n",
              "      <td>more than 30</td>\n",
              "      <td>1</td>\n",
              "      <td>more than 7</td>\n",
              "      <td>51 to 65</td>\n",
              "      <td>1</td>\n",
              "      <td>0</td>\n",
              "      <td>0</td>\n",
              "      <td>more than 5</td>\n",
              "      <td>no change</td>\n",
              "      <td>1 vehicle</td>\n",
              "      <td>1994</td>\n",
              "      <td>7584.153493</td>\n",
              "      <td>0</td>\n",
              "      <td>0</td>\n",
              "      <td>0</td>\n",
              "      <td>0</td>\n",
              "      <td>0</td>\n",
              "      <td>0</td>\n",
              "      <td>1</td>\n",
              "      <td>0</td>\n",
              "      <td>0</td>\n",
              "      <td>0</td>\n",
              "      <td>0</td>\n",
              "      <td>0</td>\n",
              "      <td>0</td>\n",
              "      <td>1</td>\n",
              "      <td>0</td>\n",
              "      <td>0</td>\n",
              "      <td>0</td>\n",
              "      <td>0</td>\n",
              "      <td>0</td>\n",
              "      <td>1</td>\n",
              "      <td>0</td>\n",
              "      <td>0</td>\n",
              "      <td>0</td>\n",
              "      <td>0</td>\n",
              "      <td>0</td>\n",
              "      <td>0</td>\n",
              "      <td>0</td>\n",
              "      <td>0</td>\n",
              "      <td>0</td>\n",
              "      <td>0</td>\n",
              "      <td>0</td>\n",
              "      <td>0</td>\n",
              "      <td>0</td>\n",
              "      <td>0</td>\n",
              "      <td>0</td>\n",
              "      <td>0</td>\n",
              "      <td>0</td>\n",
              "      <td>0</td>\n",
              "      <td>0</td>\n",
              "      <td>0</td>\n",
              "      <td>0</td>\n",
              "      <td>1</td>\n",
              "      <td>0</td>\n",
              "      <td>1</td>\n",
              "      <td>0</td>\n",
              "      <td>0</td>\n",
              "      <td>0</td>\n",
              "      <td>0</td>\n",
              "      <td>0</td>\n",
              "      <td>0</td>\n",
              "      <td>0</td>\n",
              "      <td>0</td>\n",
              "      <td>0</td>\n",
              "      <td>0</td>\n",
              "      <td>0</td>\n",
              "      <td>1</td>\n",
              "      <td>0</td>\n",
              "      <td>0</td>\n",
              "      <td>0</td>\n",
              "      <td>0</td>\n",
              "      <td>0</td>\n",
              "      <td>0</td>\n",
              "      <td>1</td>\n",
              "      <td>0</td>\n",
              "      <td>0</td>\n",
              "      <td>0</td>\n",
              "      <td>0</td>\n",
              "      <td>0</td>\n",
              "      <td>1</td>\n",
              "      <td>0</td>\n",
              "      <td>0</td>\n",
              "      <td>0</td>\n",
              "      <td>0</td>\n",
              "      <td>1</td>\n",
              "      <td>0</td>\n",
              "      <td>0</td>\n",
              "      <td>0</td>\n",
              "      <td>0</td>\n",
              "      <td>0</td>\n",
              "      <td>0</td>\n",
              "      <td>0</td>\n",
              "      <td>1</td>\n",
              "      <td>0</td>\n",
              "      <td>0</td>\n",
              "      <td>0</td>\n",
              "      <td>1</td>\n",
              "    </tr>\n",
              "    <tr>\n",
              "      <th>4</th>\n",
              "      <td>1</td>\n",
              "      <td>1</td>\n",
              "      <td>36.0</td>\n",
              "      <td>1</td>\n",
              "      <td>more than 69000</td>\n",
              "      <td>0</td>\n",
              "      <td>7</td>\n",
              "      <td>14</td>\n",
              "      <td>400</td>\n",
              "      <td>1.0</td>\n",
              "      <td>more than 30</td>\n",
              "      <td>more than 30</td>\n",
              "      <td>1</td>\n",
              "      <td>7 years</td>\n",
              "      <td>36 to 40</td>\n",
              "      <td>0</td>\n",
              "      <td>0</td>\n",
              "      <td>0</td>\n",
              "      <td>1 to 2</td>\n",
              "      <td>no change</td>\n",
              "      <td>1 vehicle</td>\n",
              "      <td>1994</td>\n",
              "      <td>98545.374339</td>\n",
              "      <td>0</td>\n",
              "      <td>0</td>\n",
              "      <td>0</td>\n",
              "      <td>1</td>\n",
              "      <td>0</td>\n",
              "      <td>0</td>\n",
              "      <td>0</td>\n",
              "      <td>0</td>\n",
              "      <td>0</td>\n",
              "      <td>0</td>\n",
              "      <td>0</td>\n",
              "      <td>0</td>\n",
              "      <td>1</td>\n",
              "      <td>0</td>\n",
              "      <td>0</td>\n",
              "      <td>0</td>\n",
              "      <td>0</td>\n",
              "      <td>0</td>\n",
              "      <td>0</td>\n",
              "      <td>1</td>\n",
              "      <td>0</td>\n",
              "      <td>0</td>\n",
              "      <td>0</td>\n",
              "      <td>0</td>\n",
              "      <td>0</td>\n",
              "      <td>0</td>\n",
              "      <td>0</td>\n",
              "      <td>0</td>\n",
              "      <td>0</td>\n",
              "      <td>0</td>\n",
              "      <td>1</td>\n",
              "      <td>0</td>\n",
              "      <td>0</td>\n",
              "      <td>0</td>\n",
              "      <td>0</td>\n",
              "      <td>0</td>\n",
              "      <td>0</td>\n",
              "      <td>0</td>\n",
              "      <td>0</td>\n",
              "      <td>0</td>\n",
              "      <td>0</td>\n",
              "      <td>0</td>\n",
              "      <td>0</td>\n",
              "      <td>0</td>\n",
              "      <td>1</td>\n",
              "      <td>0</td>\n",
              "      <td>0</td>\n",
              "      <td>0</td>\n",
              "      <td>0</td>\n",
              "      <td>0</td>\n",
              "      <td>0</td>\n",
              "      <td>0</td>\n",
              "      <td>0</td>\n",
              "      <td>1</td>\n",
              "      <td>0</td>\n",
              "      <td>0</td>\n",
              "      <td>0</td>\n",
              "      <td>0</td>\n",
              "      <td>0</td>\n",
              "      <td>0</td>\n",
              "      <td>0</td>\n",
              "      <td>0</td>\n",
              "      <td>0</td>\n",
              "      <td>0</td>\n",
              "      <td>1</td>\n",
              "      <td>0</td>\n",
              "      <td>0</td>\n",
              "      <td>0</td>\n",
              "      <td>1</td>\n",
              "      <td>0</td>\n",
              "      <td>0</td>\n",
              "      <td>0</td>\n",
              "      <td>0</td>\n",
              "      <td>0</td>\n",
              "      <td>0</td>\n",
              "      <td>1</td>\n",
              "      <td>0</td>\n",
              "      <td>0</td>\n",
              "      <td>0</td>\n",
              "      <td>0</td>\n",
              "      <td>0</td>\n",
              "      <td>1</td>\n",
              "      <td>0</td>\n",
              "      <td>0</td>\n",
              "      <td>1</td>\n",
              "      <td>0</td>\n",
              "    </tr>\n",
              "  </tbody>\n",
              "</table>\n",
              "</div>"
            ],
            "text/plain": [
              "   AccidentArea  Sex   Age  Fault     VehiclePrice  FraudFound_P  \\\n",
              "0             1    0  21.0      0  more than 69000             0   \n",
              "1             1    1  34.0      0  more than 69000             0   \n",
              "2             1    1  47.0      0  more than 69000             0   \n",
              "3             0    1  65.0      1   20000 to 29000             0   \n",
              "4             1    1  36.0      1  more than 69000             0   \n",
              "\n",
              "   PolicyNumber  RepNumber  Deductible  DriverRating Days_Policy_Accident  \\\n",
              "0             1         12         300           1.0         more than 30   \n",
              "1             2         15         400           4.0         more than 30   \n",
              "2             3          7         400           3.0         more than 30   \n",
              "3             4          4         400           2.0         more than 30   \n",
              "4             7         14         400           1.0         more than 30   \n",
              "\n",
              "  Days_Policy_Claim PastNumberOfClaims AgeOfVehicle AgeOfPolicyHolder  \\\n",
              "0      more than 30               none      3 years          26 to 30   \n",
              "1      more than 30               none      6 years          31 to 35   \n",
              "2      more than 30                  1      7 years          41 to 50   \n",
              "3      more than 30                  1  more than 7          51 to 65   \n",
              "4      more than 30                  1      7 years          36 to 40   \n",
              "\n",
              "   PoliceReportFiled  WitnessPresent  AgentType NumberOfSuppliments  \\\n",
              "0                  0               0          0                none   \n",
              "1                  1               0          0                none   \n",
              "2                  0               0          0                none   \n",
              "3                  1               0          0         more than 5   \n",
              "4                  0               0          0              1 to 2   \n",
              "\n",
              "  AddressChange_Claim NumberOfCars  Year     ClaimSize  Month_Apr  Month_Aug  \\\n",
              "0              1 year       3 to 4  1994  55526.069421          0          0   \n",
              "1           no change    1 vehicle  1994  59294.455571          0          0   \n",
              "2           no change    1 vehicle  1994  71756.941320          0          0   \n",
              "3           no change    1 vehicle  1994   7584.153493          0          0   \n",
              "4           no change    1 vehicle  1994  98545.374339          0          0   \n",
              "\n",
              "   Month_Dec  Month_Feb  Month_Jan  Month_Jul  Month_Jun  Month_Mar  \\\n",
              "0          1          0          0          0          0          0   \n",
              "1          0          0          1          0          0          0   \n",
              "2          0          0          0          0          0          0   \n",
              "3          0          0          0          0          1          0   \n",
              "4          0          1          0          0          0          0   \n",
              "\n",
              "   Month_May  Month_Nov  Month_Oct  Month_Sep  WeekOfMonth_1  WeekOfMonth_2  \\\n",
              "0          0          0          0          0              0              0   \n",
              "1          0          0          0          0              0              0   \n",
              "2          0          0          1          0              0              0   \n",
              "3          0          0          0          0              0              1   \n",
              "4          0          0          0          0              1              0   \n",
              "\n",
              "   WeekOfMonth_3  WeekOfMonth_4  WeekOfMonth_5  DayOfWeek_Friday  \\\n",
              "0              0              0              1                 0   \n",
              "1              1              0              0                 0   \n",
              "2              0              0              1                 1   \n",
              "3              0              0              0                 0   \n",
              "4              0              0              0                 0   \n",
              "\n",
              "   DayOfWeek_Monday  DayOfWeek_Saturday  DayOfWeek_Sunday  DayOfWeek_Thursday  \\\n",
              "0                 0                   0                 0                   0   \n",
              "1                 0                   0                 0                   0   \n",
              "2                 0                   0                 0                   0   \n",
              "3                 0                   1                 0                   0   \n",
              "4                 0                   1                 0                   0   \n",
              "\n",
              "   DayOfWeek_Tuesday  DayOfWeek_Wednesday  Make_Accura  Make_BMW  \\\n",
              "0                  0                    1            0         0   \n",
              "1                  0                    1            0         0   \n",
              "2                  0                    0            0         0   \n",
              "3                  0                    0            0         0   \n",
              "4                  0                    0            0         0   \n",
              "\n",
              "   Make_Chevrolet  Make_Dodge  Make_Ferrari  Make_Ford  Make_Honda  \\\n",
              "0               0           0             0          0           1   \n",
              "1               0           0             0          0           1   \n",
              "2               0           0             0          0           1   \n",
              "3               0           0             0          0           0   \n",
              "4               0           0             0          0           1   \n",
              "\n",
              "   Make_Jaguar  Make_Lexus  Make_Mazda  Make_Mecedes  Make_Mercury  \\\n",
              "0            0           0           0             0             0   \n",
              "1            0           0           0             0             0   \n",
              "2            0           0           0             0             0   \n",
              "3            0           0           0             0             0   \n",
              "4            0           0           0             0             0   \n",
              "\n",
              "   Make_Nisson  Make_Pontiac  Make_Porche  Make_Saab  Make_Saturn  \\\n",
              "0            0             0            0          0            0   \n",
              "1            0             0            0          0            0   \n",
              "2            0             0            0          0            0   \n",
              "3            0             0            0          0            0   \n",
              "4            0             0            0          0            0   \n",
              "\n",
              "   Make_Toyota  Make_VW  DayOfWeekClaimed_Friday  DayOfWeekClaimed_Monday  \\\n",
              "0            0        0                        0                        0   \n",
              "1            0        0                        0                        1   \n",
              "2            0        0                        0                        0   \n",
              "3            1        0                        1                        0   \n",
              "4            0        0                        0                        1   \n",
              "\n",
              "   DayOfWeekClaimed_Saturday  DayOfWeekClaimed_Sunday  \\\n",
              "0                          0                        0   \n",
              "1                          0                        0   \n",
              "2                          0                        0   \n",
              "3                          0                        0   \n",
              "4                          0                        0   \n",
              "\n",
              "   DayOfWeekClaimed_Thursday  DayOfWeekClaimed_Tuesday  \\\n",
              "0                          0                         1   \n",
              "1                          0                         0   \n",
              "2                          1                         0   \n",
              "3                          0                         0   \n",
              "4                          0                         0   \n",
              "\n",
              "   DayOfWeekClaimed_Wednesday  MonthClaimed_Apr  MonthClaimed_Aug  \\\n",
              "0                           0                 0                 0   \n",
              "1                           0                 0                 0   \n",
              "2                           0                 0                 0   \n",
              "3                           0                 0                 0   \n",
              "4                           0                 0                 0   \n",
              "\n",
              "   MonthClaimed_Dec  MonthClaimed_Feb  MonthClaimed_Jan  MonthClaimed_Jul  \\\n",
              "0                 0                 0                 1                 0   \n",
              "1                 0                 0                 1                 0   \n",
              "2                 0                 0                 0                 0   \n",
              "3                 0                 0                 0                 1   \n",
              "4                 0                 1                 0                 0   \n",
              "\n",
              "   MonthClaimed_Jun  MonthClaimed_Mar  MonthClaimed_May  MonthClaimed_Nov  \\\n",
              "0                 0                 0                 0                 0   \n",
              "1                 0                 0                 0                 0   \n",
              "2                 0                 0                 0                 1   \n",
              "3                 0                 0                 0                 0   \n",
              "4                 0                 0                 0                 0   \n",
              "\n",
              "   MonthClaimed_Oct  MonthClaimed_Sep  WeekOfMonthClaimed_1  \\\n",
              "0                 0                 0                     1   \n",
              "1                 0                 0                     0   \n",
              "2                 0                 0                     0   \n",
              "3                 0                 0                     1   \n",
              "4                 0                 0                     0   \n",
              "\n",
              "   WeekOfMonthClaimed_2  WeekOfMonthClaimed_3  WeekOfMonthClaimed_4  \\\n",
              "0                     0                     0                     0   \n",
              "1                     0                     0                     1   \n",
              "2                     1                     0                     0   \n",
              "3                     0                     0                     0   \n",
              "4                     0                     1                     0   \n",
              "\n",
              "   WeekOfMonthClaimed_5  MaritalStatus_Divorced  MaritalStatus_Married  \\\n",
              "0                     0                       0                      0   \n",
              "1                     0                       0                      0   \n",
              "2                     0                       0                      1   \n",
              "3                     0                       0                      1   \n",
              "4                     0                       0                      1   \n",
              "\n",
              "   MaritalStatus_Single  MaritalStatus_Widow  PolicyType_Sedan - All Perils  \\\n",
              "0                     1                    0                              0   \n",
              "1                     1                    0                              0   \n",
              "2                     0                    0                              0   \n",
              "3                     0                    0                              0   \n",
              "4                     0                    0                              0   \n",
              "\n",
              "   PolicyType_Sedan - Collision  PolicyType_Sedan - Liability  \\\n",
              "0                             0                             0   \n",
              "1                             0                             0   \n",
              "2                             0                             0   \n",
              "3                             0                             1   \n",
              "4                             0                             0   \n",
              "\n",
              "   PolicyType_Sport - All Perils  PolicyType_Sport - Collision  \\\n",
              "0                              0                             0   \n",
              "1                              0                             1   \n",
              "2                              0                             1   \n",
              "3                              0                             0   \n",
              "4                              0                             1   \n",
              "\n",
              "   PolicyType_Sport - Liability  PolicyType_Utility - All Perils  \\\n",
              "0                             1                                0   \n",
              "1                             0                                0   \n",
              "2                             0                                0   \n",
              "3                             0                                0   \n",
              "4                             0                                0   \n",
              "\n",
              "   PolicyType_Utility - Collision  PolicyType_Utility - Liability  \\\n",
              "0                               0                               0   \n",
              "1                               0                               0   \n",
              "2                               0                               0   \n",
              "3                               0                               0   \n",
              "4                               0                               0   \n",
              "\n",
              "   VehicleCategory_Sedan  VehicleCategory_Sport  VehicleCategory_Utility  \\\n",
              "0                      0                      1                        0   \n",
              "1                      0                      1                        0   \n",
              "2                      0                      1                        0   \n",
              "3                      0                      1                        0   \n",
              "4                      0                      1                        0   \n",
              "\n",
              "   BasePolicy_All Perils  BasePolicy_Collision  BasePolicy_Liability  \n",
              "0                      0                     0                     1  \n",
              "1                      0                     1                     0  \n",
              "2                      0                     1                     0  \n",
              "3                      0                     0                     1  \n",
              "4                      0                     1                     0  "
            ]
          },
          "metadata": {
            "tags": []
          },
          "execution_count": 26
        }
      ]
    },
    {
      "metadata": {
        "id": "qNdSq3KZZ4Bq",
        "colab_type": "code",
        "outputId": "baccf9a8-56ac-44bd-f2cb-40c9dfd1fe06",
        "colab": {
          "base_uri": "https://localhost:8080/",
          "height": 136
        }
      },
      "cell_type": "code",
      "source": [
        "dataset[\"VehiclePrice\"]=dataset[\"VehiclePrice\"].replace(\"20000 to 29000\",2)\n",
        "dataset[\"VehiclePrice\"]=dataset[\"VehiclePrice\"].replace(\"30000 to 39000\",3)\n",
        "dataset[\"VehiclePrice\"]=dataset[\"VehiclePrice\"].replace(\"40000 to 59000\",5)\n",
        "dataset[\"VehiclePrice\"]=dataset[\"VehiclePrice\"].replace(\"60000 to 69000\",6)\n",
        "dataset[\"VehiclePrice\"]=dataset[\"VehiclePrice\"].replace(\"more than 69000\",8)\n",
        "dataset[\"VehiclePrice\"]=dataset[\"VehiclePrice\"].replace(\"less than 20000\",1)\n",
        "dataset[\"VehiclePrice\"].value_counts()"
      ],
      "execution_count": 27,
      "outputs": [
        {
          "output_type": "execute_result",
          "data": {
            "text/plain": [
              "2    6104\n",
              "3    2640\n",
              "8    1605\n",
              "1     798\n",
              "5     348\n",
              "6      59\n",
              "Name: VehiclePrice, dtype: int64"
            ]
          },
          "metadata": {
            "tags": []
          },
          "execution_count": 27
        }
      ]
    },
    {
      "metadata": {
        "id": "hqYWTVA4Xqfb",
        "colab_type": "code",
        "outputId": "5d6f9e0f-4aff-43a6-ee95-21069f055fdb",
        "colab": {
          "base_uri": "https://localhost:8080/",
          "height": 34
        }
      },
      "cell_type": "code",
      "source": [
        "dataset[\"PolicyNumber\"].nunique()"
      ],
      "execution_count": 28,
      "outputs": [
        {
          "output_type": "execute_result",
          "data": {
            "text/plain": [
              "11554"
            ]
          },
          "metadata": {
            "tags": []
          },
          "execution_count": 28
        }
      ]
    },
    {
      "metadata": {
        "id": "B2Ge4Z9Ga1tf",
        "colab_type": "code",
        "outputId": "5f211b06-846f-4f50-dd16-de1bcb620089",
        "colab": {
          "base_uri": "https://localhost:8080/",
          "height": 102
        }
      },
      "cell_type": "code",
      "source": [
        "dataset.info()"
      ],
      "execution_count": 29,
      "outputs": [
        {
          "output_type": "stream",
          "text": [
            "<class 'pandas.core.frame.DataFrame'>\n",
            "Int64Index: 11554 entries, 0 to 11564\n",
            "Columns: 109 entries, AccidentArea to BasePolicy_Liability\n",
            "dtypes: float64(3), int64(12), object(8), uint8(86)\n",
            "memory usage: 3.1+ MB\n"
          ],
          "name": "stdout"
        }
      ]
    },
    {
      "metadata": {
        "id": "CvnAXQVYbGHh",
        "colab_type": "code",
        "colab": {}
      },
      "cell_type": "code",
      "source": [
        "dataset.drop([\"PolicyNumber\"],axis=1,inplace=True)"
      ],
      "execution_count": 0,
      "outputs": []
    },
    {
      "metadata": {
        "id": "ts1G9ZnHbNvT",
        "colab_type": "code",
        "outputId": "b56b3884-a0f3-400e-cff5-a863555fb774",
        "colab": {
          "base_uri": "https://localhost:8080/",
          "height": 102
        }
      },
      "cell_type": "code",
      "source": [
        "dataset.info()"
      ],
      "execution_count": 31,
      "outputs": [
        {
          "output_type": "stream",
          "text": [
            "<class 'pandas.core.frame.DataFrame'>\n",
            "Int64Index: 11554 entries, 0 to 11564\n",
            "Columns: 108 entries, AccidentArea to BasePolicy_Liability\n",
            "dtypes: float64(3), int64(11), object(8), uint8(86)\n",
            "memory usage: 3.0+ MB\n"
          ],
          "name": "stdout"
        }
      ]
    },
    {
      "metadata": {
        "id": "ZCYJNv7QbRPV",
        "colab_type": "code",
        "outputId": "3c948550-b961-45f5-d072-761a83d84a34",
        "colab": {
          "base_uri": "https://localhost:8080/",
          "height": 119
        }
      },
      "cell_type": "code",
      "source": [
        "dataset[\"Deductible\"].head()"
      ],
      "execution_count": 32,
      "outputs": [
        {
          "output_type": "execute_result",
          "data": {
            "text/plain": [
              "0    300\n",
              "1    400\n",
              "2    400\n",
              "3    400\n",
              "4    400\n",
              "Name: Deductible, dtype: int64"
            ]
          },
          "metadata": {
            "tags": []
          },
          "execution_count": 32
        }
      ]
    },
    {
      "metadata": {
        "id": "xVKLQMCXbdV2",
        "colab_type": "code",
        "outputId": "eff818c2-770e-4b4a-bef0-c63f115388bc",
        "colab": {
          "base_uri": "https://localhost:8080/",
          "height": 102
        }
      },
      "cell_type": "code",
      "source": [
        "\n",
        "dataset[\"Deductible\"].value_counts()\n"
      ],
      "execution_count": 33,
      "outputs": [
        {
          "output_type": "execute_result",
          "data": {
            "text/plain": [
              "400    11117\n",
              "700      226\n",
              "500      207\n",
              "300        4\n",
              "Name: Deductible, dtype: int64"
            ]
          },
          "metadata": {
            "tags": []
          },
          "execution_count": 33
        }
      ]
    },
    {
      "metadata": {
        "id": "6x4yh742buVB",
        "colab_type": "code",
        "outputId": "67cc286a-9971-4862-f82e-b5ecd9b74538",
        "colab": {
          "base_uri": "https://localhost:8080/",
          "height": 119
        }
      },
      "cell_type": "code",
      "source": [
        "dataset[\"Days_Policy_Accident\"].value_counts()"
      ],
      "execution_count": 34,
      "outputs": [
        {
          "output_type": "execute_result",
          "data": {
            "text/plain": [
              "more than 30    11428\n",
              "8 to 15            44\n",
              "none               39\n",
              "15 to 30           32\n",
              "1 to 7             11\n",
              "Name: Days_Policy_Accident, dtype: int64"
            ]
          },
          "metadata": {
            "tags": []
          },
          "execution_count": 34
        }
      ]
    },
    {
      "metadata": {
        "id": "P2YocNnNcqgS",
        "colab_type": "code",
        "outputId": "e7028b20-8b4a-4621-dacb-0022c8151a82",
        "colab": {
          "base_uri": "https://localhost:8080/",
          "height": 119
        }
      },
      "cell_type": "code",
      "source": [
        "dataset[\"Days_Policy_Accident\"]=dataset[\"Days_Policy_Accident\"].replace(\"1 to 7\",5)\n",
        "dataset[\"Days_Policy_Accident\"]=dataset[\"Days_Policy_Accident\"].replace(\"8 to 15\",12)\n",
        "dataset[\"Days_Policy_Accident\"]=dataset[\"Days_Policy_Accident\"].replace(\"15 to 30\",22)\n",
        "dataset[\"Days_Policy_Accident\"]=dataset[\"Days_Policy_Accident\"].replace(\"none\",0)\n",
        "dataset[\"Days_Policy_Accident\"]=dataset[\"Days_Policy_Accident\"].replace(\"more than 30\",50)\n",
        "dataset[\"Days_Policy_Accident\"].value_counts()\n"
      ],
      "execution_count": 35,
      "outputs": [
        {
          "output_type": "execute_result",
          "data": {
            "text/plain": [
              "50    11428\n",
              "12       44\n",
              "0        39\n",
              "22       32\n",
              "5        11\n",
              "Name: Days_Policy_Accident, dtype: int64"
            ]
          },
          "metadata": {
            "tags": []
          },
          "execution_count": 35
        }
      ]
    },
    {
      "metadata": {
        "id": "8ps_WuItdpjk",
        "colab_type": "code",
        "outputId": "adfc621d-709b-49e6-87fb-f55b430f7548",
        "colab": {
          "base_uri": "https://localhost:8080/",
          "height": 102
        }
      },
      "cell_type": "code",
      "source": [
        "dataset[\"Days_Policy_Claim\"].value_counts()"
      ],
      "execution_count": 36,
      "outputs": [
        {
          "output_type": "execute_result",
          "data": {
            "text/plain": [
              "more than 30    11493\n",
              "15 to 30           47\n",
              "8 to 15            13\n",
              "none                1\n",
              "Name: Days_Policy_Claim, dtype: int64"
            ]
          },
          "metadata": {
            "tags": []
          },
          "execution_count": 36
        }
      ]
    },
    {
      "metadata": {
        "id": "fhXQWq4id4TA",
        "colab_type": "code",
        "colab": {}
      },
      "cell_type": "code",
      "source": [
        "dataset[\"Days_Policy_Claim\"]=dataset[\"Days_Policy_Claim\"].replace(\"none\",1)\n",
        "dataset[\"Days_Policy_Claim\"]=dataset[\"Days_Policy_Claim\"].replace(\"8 to 15\",12)\n",
        "dataset[\"Days_Policy_Claim\"]=dataset[\"Days_Policy_Claim\"].replace(\"15 to 30\",22)\n",
        "dataset[\"Days_Policy_Claim\"]=dataset[\"Days_Policy_Claim\"].replace(\"more than 30\",50)"
      ],
      "execution_count": 0,
      "outputs": []
    },
    {
      "metadata": {
        "id": "bFwVOqY6edp0",
        "colab_type": "code",
        "outputId": "a2ba9b08-2866-48e2-aebb-659e7c5eb9c4",
        "colab": {
          "base_uri": "https://localhost:8080/",
          "height": 102
        }
      },
      "cell_type": "code",
      "source": [
        " dataset[\"PastNumberOfClaims\"].value_counts()"
      ],
      "execution_count": 38,
      "outputs": [
        {
          "output_type": "execute_result",
          "data": {
            "text/plain": [
              "2 to 4         4135\n",
              "none           3284\n",
              "1              2674\n",
              "more than 4    1461\n",
              "Name: PastNumberOfClaims, dtype: int64"
            ]
          },
          "metadata": {
            "tags": []
          },
          "execution_count": 38
        }
      ]
    },
    {
      "metadata": {
        "id": "H4BM_dMufKRt",
        "colab_type": "code",
        "colab": {}
      },
      "cell_type": "code",
      "source": [
        "dataset[\"PastNumberOfClaims\"]=dataset[\"PastNumberOfClaims\"].replace(\"none\",0)\n",
        "dataset[\"PastNumberOfClaims\"]=dataset[\"PastNumberOfClaims\"].replace(\"1\",1)\n",
        "dataset[\"PastNumberOfClaims\"]=dataset[\"PastNumberOfClaims\"].replace(\"2 to 4\",3)\n",
        "dataset[\"PastNumberOfClaims\"]=dataset[\"PastNumberOfClaims\"].replace(\"more than 4\",6)"
      ],
      "execution_count": 0,
      "outputs": []
    },
    {
      "metadata": {
        "id": "9RhQCb3UfhXj",
        "colab_type": "code",
        "outputId": "a8a96cb8-1fc0-4780-ca9b-05b70f6100ec",
        "colab": {
          "base_uri": "https://localhost:8080/",
          "height": 170
        }
      },
      "cell_type": "code",
      "source": [
        "dataset[\"AgeOfVehicle\"].value_counts()"
      ],
      "execution_count": 40,
      "outputs": [
        {
          "output_type": "execute_result",
          "data": {
            "text/plain": [
              "7 years        4386\n",
              "more than 7    2990\n",
              "6 years        2576\n",
              "5 years         990\n",
              "new             285\n",
              "4 years         175\n",
              "3 years         100\n",
              "2 years          52\n",
              "Name: AgeOfVehicle, dtype: int64"
            ]
          },
          "metadata": {
            "tags": []
          },
          "execution_count": 40
        }
      ]
    },
    {
      "metadata": {
        "id": "pH6BMMnlfnL2",
        "colab_type": "code",
        "colab": {}
      },
      "cell_type": "code",
      "source": [
        "dataset[\"AgeOfVehicle\"]=dataset[\"AgeOfVehicle\"].replace(\"new\",0)\n",
        "dataset[\"AgeOfVehicle\"]=dataset[\"AgeOfVehicle\"].replace(\"2 years\",2)\n",
        "dataset[\"AgeOfVehicle\"]=dataset[\"AgeOfVehicle\"].replace(\"3 years\",3)\n",
        "dataset[\"AgeOfVehicle\"]=dataset[\"AgeOfVehicle\"].replace(\"4 years\",4)\n",
        "dataset[\"AgeOfVehicle\"]=dataset[\"AgeOfVehicle\"].replace(\"5 years\",5)\n",
        "dataset[\"AgeOfVehicle\"]=dataset[\"AgeOfVehicle\"].replace(\"6 years\",6)\n",
        "dataset[\"AgeOfVehicle\"]=dataset[\"AgeOfVehicle\"].replace(\"7 years\",7)\n",
        "dataset[\"AgeOfVehicle\"]=dataset[\"AgeOfVehicle\"].replace(\"more than 7\",9)"
      ],
      "execution_count": 0,
      "outputs": []
    },
    {
      "metadata": {
        "id": "1UhLupA3gP4Q",
        "colab_type": "code",
        "outputId": "2c84ba8f-356d-4ac3-8768-134af5e837b2",
        "colab": {
          "base_uri": "https://localhost:8080/",
          "height": 187
        }
      },
      "cell_type": "code",
      "source": [
        "dataset[\"AgeOfPolicyHolder\"].value_counts()"
      ],
      "execution_count": 42,
      "outputs": [
        {
          "output_type": "execute_result",
          "data": {
            "text/plain": [
              "31 to 35    4193\n",
              "36 to 40    3007\n",
              "41 to 50    2121\n",
              "51 to 65    1067\n",
              "26 to 30     445\n",
              "over 65      388\n",
              "16 to 17     247\n",
              "21 to 25      73\n",
              "18 to 20      13\n",
              "Name: AgeOfPolicyHolder, dtype: int64"
            ]
          },
          "metadata": {
            "tags": []
          },
          "execution_count": 42
        }
      ]
    },
    {
      "metadata": {
        "id": "yqC1W0-bgZw8",
        "colab_type": "code",
        "colab": {}
      },
      "cell_type": "code",
      "source": [
        "dataset[\"AgeOfPolicyHolder\"]=dataset[\"AgeOfPolicyHolder\"].replace(\"18 to 20\",19)\n",
        "dataset[\"AgeOfPolicyHolder\"]=dataset[\"AgeOfPolicyHolder\"].replace(\"16 to 17\",16)\n",
        "dataset[\"AgeOfPolicyHolder\"]=dataset[\"AgeOfPolicyHolder\"].replace(\"21 to 25\",23)\n",
        "dataset[\"AgeOfPolicyHolder\"]=dataset[\"AgeOfPolicyHolder\"].replace(\"26 to 30\",28)\n",
        "dataset[\"AgeOfPolicyHolder\"]=dataset[\"AgeOfPolicyHolder\"].replace(\"31 to 35\",33)\n",
        "dataset[\"AgeOfPolicyHolder\"]=dataset[\"AgeOfPolicyHolder\"].replace(\"36 to 40\",38)\n",
        "dataset[\"AgeOfPolicyHolder\"]=dataset[\"AgeOfPolicyHolder\"].replace(\"41 to 50\",45)\n",
        "dataset[\"AgeOfPolicyHolder\"]=dataset[\"AgeOfPolicyHolder\"].replace(\"51 to 65\",58)\n",
        "dataset[\"AgeOfPolicyHolder\"]=dataset[\"AgeOfPolicyHolder\"].replace(\"over 65\",68)"
      ],
      "execution_count": 0,
      "outputs": []
    },
    {
      "metadata": {
        "id": "yhM23G-XhC7Y",
        "colab_type": "code",
        "outputId": "efe285c8-5f07-4cb8-8c7b-a7ed4bad03a6",
        "colab": {
          "base_uri": "https://localhost:8080/",
          "height": 102
        }
      },
      "cell_type": "code",
      "source": [
        "dataset[\"NumberOfSuppliments\"].value_counts()"
      ],
      "execution_count": 44,
      "outputs": [
        {
          "output_type": "execute_result",
          "data": {
            "text/plain": [
              "none           5325\n",
              "more than 5    2870\n",
              "1 to 2         1845\n",
              "3 to 5         1514\n",
              "Name: NumberOfSuppliments, dtype: int64"
            ]
          },
          "metadata": {
            "tags": []
          },
          "execution_count": 44
        }
      ]
    },
    {
      "metadata": {
        "id": "dmQkuC-GhS08",
        "colab_type": "code",
        "colab": {}
      },
      "cell_type": "code",
      "source": [
        "dataset[\"NumberOfSuppliments\"]=dataset[\"NumberOfSuppliments\"].replace(\"none\",0)\n",
        "dataset[\"NumberOfSuppliments\"]=dataset[\"NumberOfSuppliments\"].replace(\"1 to 2\",1.5)\n",
        "dataset[\"NumberOfSuppliments\"]=dataset[\"NumberOfSuppliments\"].replace(\"3 to 5\",4)\n",
        "dataset[\"NumberOfSuppliments\"]=dataset[\"NumberOfSuppliments\"].replace(\"more than 5\",6)"
      ],
      "execution_count": 0,
      "outputs": []
    },
    {
      "metadata": {
        "id": "kW-EFOD5htG_",
        "colab_type": "code",
        "outputId": "096334bf-e973-43de-c6a1-4dacf54276c4",
        "colab": {
          "base_uri": "https://localhost:8080/",
          "height": 119
        }
      },
      "cell_type": "code",
      "source": [
        "dataset[\"AddressChange_Claim\"].value_counts()"
      ],
      "execution_count": 46,
      "outputs": [
        {
          "output_type": "execute_result",
          "data": {
            "text/plain": [
              "no change         10706\n",
              "4 to 8 years        495\n",
              "2 to 3 years        222\n",
              "1 year              127\n",
              "under 6 months        4\n",
              "Name: AddressChange_Claim, dtype: int64"
            ]
          },
          "metadata": {
            "tags": []
          },
          "execution_count": 46
        }
      ]
    },
    {
      "metadata": {
        "id": "YjO2Loqghz1Z",
        "colab_type": "code",
        "colab": {}
      },
      "cell_type": "code",
      "source": [
        "dataset[\"AddressChange_Claim\"]=dataset[\"AddressChange_Claim\"].replace(\"no change\",0)\n",
        "dataset[\"AddressChange_Claim\"]=dataset[\"AddressChange_Claim\"].replace(\"1 year\",1)\n",
        "dataset[\"AddressChange_Claim\"]=dataset[\"AddressChange_Claim\"].replace(\"under 6 months\",0.5)\n",
        "dataset[\"AddressChange_Claim\"]=dataset[\"AddressChange_Claim\"].replace(\"2 to 3 years\",2.5)\n",
        "dataset[\"AddressChange_Claim\"]=dataset[\"AddressChange_Claim\"].replace(\"4 to 8 years\",6)"
      ],
      "execution_count": 0,
      "outputs": []
    },
    {
      "metadata": {
        "id": "Id7PS_ksiWeH",
        "colab_type": "code",
        "outputId": "f58c4ed8-62f9-466e-900e-45bf8740d560",
        "colab": {
          "base_uri": "https://localhost:8080/",
          "height": 119
        }
      },
      "cell_type": "code",
      "source": [
        "dataset[\"NumberOfCars\"].value_counts()"
      ],
      "execution_count": 48,
      "outputs": [
        {
          "output_type": "execute_result",
          "data": {
            "text/plain": [
              "1 vehicle      10688\n",
              "2 vehicles       558\n",
              "3 to 4           288\n",
              "5 to 8            19\n",
              "more than 8        1\n",
              "Name: NumberOfCars, dtype: int64"
            ]
          },
          "metadata": {
            "tags": []
          },
          "execution_count": 48
        }
      ]
    },
    {
      "metadata": {
        "id": "tUCluvHzigGL",
        "colab_type": "code",
        "colab": {}
      },
      "cell_type": "code",
      "source": [
        "dataset[\"NumberOfCars\"]=dataset[\"NumberOfCars\"].replace(\"1 vehicle\",1)\n",
        "dataset[\"NumberOfCars\"]=dataset[\"NumberOfCars\"].replace(\"2 vehicle\",2)\n",
        "dataset[\"NumberOfCars\"]=dataset[\"NumberOfCars\"].replace(\"3 to 4\",4)\n",
        "dataset[\"NumberOfCars\"]=dataset[\"NumberOfCars\"].replace(\"5 to 8\",7)\n",
        "dataset[\"NumberOfCars\"]=dataset[\"NumberOfCars\"].replace(\"more than 8\",10)"
      ],
      "execution_count": 0,
      "outputs": []
    },
    {
      "metadata": {
        "id": "MvaUl9-mi4Mh",
        "colab_type": "code",
        "outputId": "196333e0-8c48-4a07-dee2-7ca9c0207adf",
        "colab": {
          "base_uri": "https://localhost:8080/",
          "height": 85
        }
      },
      "cell_type": "code",
      "source": [
        "dataset[\"Year\"].value_counts()"
      ],
      "execution_count": 50,
      "outputs": [
        {
          "output_type": "execute_result",
          "data": {
            "text/plain": [
              "1994    4592\n",
              "1995    3920\n",
              "1996    3042\n",
              "Name: Year, dtype: int64"
            ]
          },
          "metadata": {
            "tags": []
          },
          "execution_count": 50
        }
      ]
    },
    {
      "metadata": {
        "id": "kBzh--Q3jJma",
        "colab_type": "code",
        "outputId": "abc669ae-7614-4911-d1f0-010e824dbae9",
        "colab": {
          "base_uri": "https://localhost:8080/",
          "height": 85
        }
      },
      "cell_type": "code",
      "source": [
        "#changing the year to no of years gone till 2010\n",
        "dataset[\"Year_gone\"]=dataset[\"Year\"].replace(1994,16)\n",
        "dataset[\"Year_gone\"]=dataset[\"Year\"].replace(1995,15)\n",
        "dataset[\"Year_gone\"]=dataset[\"Year\"].replace(1996,14)\n",
        "dataset[\"Year_gone\"].value_counts()"
      ],
      "execution_count": 51,
      "outputs": [
        {
          "output_type": "execute_result",
          "data": {
            "text/plain": [
              "1994    4592\n",
              "1995    3920\n",
              "14      3042\n",
              "Name: Year_gone, dtype: int64"
            ]
          },
          "metadata": {
            "tags": []
          },
          "execution_count": 51
        }
      ]
    },
    {
      "metadata": {
        "id": "tw2JEgSWjx37",
        "colab_type": "code",
        "colab": {}
      },
      "cell_type": "code",
      "source": [
        "dataset.drop([\"Year\"],axis=1,inplace=True)"
      ],
      "execution_count": 0,
      "outputs": []
    },
    {
      "metadata": {
        "id": "2DIri5wtj5Tc",
        "colab_type": "code",
        "outputId": "c231735b-ef77-4f37-aad5-8b844e3037b6",
        "colab": {
          "base_uri": "https://localhost:8080/",
          "height": 34
        }
      },
      "cell_type": "code",
      "source": [
        "dataset[\"ClaimSize\"].nunique()"
      ],
      "execution_count": 53,
      "outputs": [
        {
          "output_type": "execute_result",
          "data": {
            "text/plain": [
              "3331"
            ]
          },
          "metadata": {
            "tags": []
          },
          "execution_count": 53
        }
      ]
    },
    {
      "metadata": {
        "id": "iKygzkyrkAyi",
        "colab_type": "code",
        "outputId": "d66c3baf-82fe-4e0e-8e12-7e67931925b0",
        "colab": {
          "base_uri": "https://localhost:8080/",
          "height": 102
        }
      },
      "cell_type": "code",
      "source": [
        "dataset.info()"
      ],
      "execution_count": 54,
      "outputs": [
        {
          "output_type": "stream",
          "text": [
            "<class 'pandas.core.frame.DataFrame'>\n",
            "Int64Index: 11554 entries, 0 to 11564\n",
            "Columns: 108 entries, AccidentArea to Year_gone\n",
            "dtypes: float64(5), int64(16), object(1), uint8(86)\n",
            "memory usage: 3.0+ MB\n"
          ],
          "name": "stdout"
        }
      ]
    },
    {
      "metadata": {
        "id": "j0rI5vW8kYn1",
        "colab_type": "code",
        "colab": {
          "base_uri": "https://localhost:8080/",
          "height": 241
        },
        "outputId": "e24d2a28-8342-462a-df3e-545c0749f9b9"
      },
      "cell_type": "code",
      "source": [
        "dataset.head()"
      ],
      "execution_count": 56,
      "outputs": [
        {
          "output_type": "execute_result",
          "data": {
            "text/html": [
              "<div>\n",
              "<style scoped>\n",
              "    .dataframe tbody tr th:only-of-type {\n",
              "        vertical-align: middle;\n",
              "    }\n",
              "\n",
              "    .dataframe tbody tr th {\n",
              "        vertical-align: top;\n",
              "    }\n",
              "\n",
              "    .dataframe thead th {\n",
              "        text-align: right;\n",
              "    }\n",
              "</style>\n",
              "<table border=\"1\" class=\"dataframe\">\n",
              "  <thead>\n",
              "    <tr style=\"text-align: right;\">\n",
              "      <th></th>\n",
              "      <th>AccidentArea</th>\n",
              "      <th>Sex</th>\n",
              "      <th>Age</th>\n",
              "      <th>Fault</th>\n",
              "      <th>VehiclePrice</th>\n",
              "      <th>FraudFound_P</th>\n",
              "      <th>RepNumber</th>\n",
              "      <th>Deductible</th>\n",
              "      <th>DriverRating</th>\n",
              "      <th>Days_Policy_Accident</th>\n",
              "      <th>Days_Policy_Claim</th>\n",
              "      <th>PastNumberOfClaims</th>\n",
              "      <th>AgeOfVehicle</th>\n",
              "      <th>AgeOfPolicyHolder</th>\n",
              "      <th>PoliceReportFiled</th>\n",
              "      <th>WitnessPresent</th>\n",
              "      <th>AgentType</th>\n",
              "      <th>NumberOfSuppliments</th>\n",
              "      <th>AddressChange_Claim</th>\n",
              "      <th>NumberOfCars</th>\n",
              "      <th>ClaimSize</th>\n",
              "      <th>Month_Apr</th>\n",
              "      <th>Month_Aug</th>\n",
              "      <th>Month_Dec</th>\n",
              "      <th>Month_Feb</th>\n",
              "      <th>Month_Jan</th>\n",
              "      <th>Month_Jul</th>\n",
              "      <th>Month_Jun</th>\n",
              "      <th>Month_Mar</th>\n",
              "      <th>Month_May</th>\n",
              "      <th>Month_Nov</th>\n",
              "      <th>Month_Oct</th>\n",
              "      <th>Month_Sep</th>\n",
              "      <th>WeekOfMonth_1</th>\n",
              "      <th>WeekOfMonth_2</th>\n",
              "      <th>WeekOfMonth_3</th>\n",
              "      <th>WeekOfMonth_4</th>\n",
              "      <th>WeekOfMonth_5</th>\n",
              "      <th>DayOfWeek_Friday</th>\n",
              "      <th>DayOfWeek_Monday</th>\n",
              "      <th>DayOfWeek_Saturday</th>\n",
              "      <th>DayOfWeek_Sunday</th>\n",
              "      <th>DayOfWeek_Thursday</th>\n",
              "      <th>DayOfWeek_Tuesday</th>\n",
              "      <th>DayOfWeek_Wednesday</th>\n",
              "      <th>Make_Accura</th>\n",
              "      <th>Make_BMW</th>\n",
              "      <th>Make_Chevrolet</th>\n",
              "      <th>Make_Dodge</th>\n",
              "      <th>Make_Ferrari</th>\n",
              "      <th>Make_Ford</th>\n",
              "      <th>Make_Honda</th>\n",
              "      <th>Make_Jaguar</th>\n",
              "      <th>Make_Lexus</th>\n",
              "      <th>Make_Mazda</th>\n",
              "      <th>Make_Mecedes</th>\n",
              "      <th>Make_Mercury</th>\n",
              "      <th>Make_Nisson</th>\n",
              "      <th>Make_Pontiac</th>\n",
              "      <th>Make_Porche</th>\n",
              "      <th>Make_Saab</th>\n",
              "      <th>Make_Saturn</th>\n",
              "      <th>Make_Toyota</th>\n",
              "      <th>Make_VW</th>\n",
              "      <th>DayOfWeekClaimed_Friday</th>\n",
              "      <th>DayOfWeekClaimed_Monday</th>\n",
              "      <th>DayOfWeekClaimed_Saturday</th>\n",
              "      <th>DayOfWeekClaimed_Sunday</th>\n",
              "      <th>DayOfWeekClaimed_Thursday</th>\n",
              "      <th>DayOfWeekClaimed_Tuesday</th>\n",
              "      <th>DayOfWeekClaimed_Wednesday</th>\n",
              "      <th>MonthClaimed_Apr</th>\n",
              "      <th>MonthClaimed_Aug</th>\n",
              "      <th>MonthClaimed_Dec</th>\n",
              "      <th>MonthClaimed_Feb</th>\n",
              "      <th>MonthClaimed_Jan</th>\n",
              "      <th>MonthClaimed_Jul</th>\n",
              "      <th>MonthClaimed_Jun</th>\n",
              "      <th>MonthClaimed_Mar</th>\n",
              "      <th>MonthClaimed_May</th>\n",
              "      <th>MonthClaimed_Nov</th>\n",
              "      <th>MonthClaimed_Oct</th>\n",
              "      <th>MonthClaimed_Sep</th>\n",
              "      <th>WeekOfMonthClaimed_1</th>\n",
              "      <th>WeekOfMonthClaimed_2</th>\n",
              "      <th>WeekOfMonthClaimed_3</th>\n",
              "      <th>WeekOfMonthClaimed_4</th>\n",
              "      <th>WeekOfMonthClaimed_5</th>\n",
              "      <th>MaritalStatus_Divorced</th>\n",
              "      <th>MaritalStatus_Married</th>\n",
              "      <th>MaritalStatus_Single</th>\n",
              "      <th>MaritalStatus_Widow</th>\n",
              "      <th>PolicyType_Sedan - All Perils</th>\n",
              "      <th>PolicyType_Sedan - Collision</th>\n",
              "      <th>PolicyType_Sedan - Liability</th>\n",
              "      <th>PolicyType_Sport - All Perils</th>\n",
              "      <th>PolicyType_Sport - Collision</th>\n",
              "      <th>PolicyType_Sport - Liability</th>\n",
              "      <th>PolicyType_Utility - All Perils</th>\n",
              "      <th>PolicyType_Utility - Collision</th>\n",
              "      <th>PolicyType_Utility - Liability</th>\n",
              "      <th>VehicleCategory_Sedan</th>\n",
              "      <th>VehicleCategory_Sport</th>\n",
              "      <th>VehicleCategory_Utility</th>\n",
              "      <th>BasePolicy_All Perils</th>\n",
              "      <th>BasePolicy_Collision</th>\n",
              "      <th>BasePolicy_Liability</th>\n",
              "      <th>Year_gone</th>\n",
              "    </tr>\n",
              "  </thead>\n",
              "  <tbody>\n",
              "    <tr>\n",
              "      <th>0</th>\n",
              "      <td>1</td>\n",
              "      <td>0</td>\n",
              "      <td>21.0</td>\n",
              "      <td>0</td>\n",
              "      <td>8</td>\n",
              "      <td>0</td>\n",
              "      <td>12</td>\n",
              "      <td>300</td>\n",
              "      <td>1.0</td>\n",
              "      <td>50</td>\n",
              "      <td>50</td>\n",
              "      <td>0</td>\n",
              "      <td>3</td>\n",
              "      <td>28</td>\n",
              "      <td>0</td>\n",
              "      <td>0</td>\n",
              "      <td>0</td>\n",
              "      <td>0.0</td>\n",
              "      <td>1.0</td>\n",
              "      <td>4</td>\n",
              "      <td>55526.069421</td>\n",
              "      <td>0</td>\n",
              "      <td>0</td>\n",
              "      <td>1</td>\n",
              "      <td>0</td>\n",
              "      <td>0</td>\n",
              "      <td>0</td>\n",
              "      <td>0</td>\n",
              "      <td>0</td>\n",
              "      <td>0</td>\n",
              "      <td>0</td>\n",
              "      <td>0</td>\n",
              "      <td>0</td>\n",
              "      <td>0</td>\n",
              "      <td>0</td>\n",
              "      <td>0</td>\n",
              "      <td>0</td>\n",
              "      <td>1</td>\n",
              "      <td>0</td>\n",
              "      <td>0</td>\n",
              "      <td>0</td>\n",
              "      <td>0</td>\n",
              "      <td>0</td>\n",
              "      <td>0</td>\n",
              "      <td>1</td>\n",
              "      <td>0</td>\n",
              "      <td>0</td>\n",
              "      <td>0</td>\n",
              "      <td>0</td>\n",
              "      <td>0</td>\n",
              "      <td>0</td>\n",
              "      <td>1</td>\n",
              "      <td>0</td>\n",
              "      <td>0</td>\n",
              "      <td>0</td>\n",
              "      <td>0</td>\n",
              "      <td>0</td>\n",
              "      <td>0</td>\n",
              "      <td>0</td>\n",
              "      <td>0</td>\n",
              "      <td>0</td>\n",
              "      <td>0</td>\n",
              "      <td>0</td>\n",
              "      <td>0</td>\n",
              "      <td>0</td>\n",
              "      <td>0</td>\n",
              "      <td>0</td>\n",
              "      <td>0</td>\n",
              "      <td>0</td>\n",
              "      <td>1</td>\n",
              "      <td>0</td>\n",
              "      <td>0</td>\n",
              "      <td>0</td>\n",
              "      <td>0</td>\n",
              "      <td>0</td>\n",
              "      <td>1</td>\n",
              "      <td>0</td>\n",
              "      <td>0</td>\n",
              "      <td>0</td>\n",
              "      <td>0</td>\n",
              "      <td>0</td>\n",
              "      <td>0</td>\n",
              "      <td>0</td>\n",
              "      <td>1</td>\n",
              "      <td>0</td>\n",
              "      <td>0</td>\n",
              "      <td>0</td>\n",
              "      <td>0</td>\n",
              "      <td>0</td>\n",
              "      <td>0</td>\n",
              "      <td>1</td>\n",
              "      <td>0</td>\n",
              "      <td>0</td>\n",
              "      <td>0</td>\n",
              "      <td>0</td>\n",
              "      <td>0</td>\n",
              "      <td>0</td>\n",
              "      <td>1</td>\n",
              "      <td>0</td>\n",
              "      <td>0</td>\n",
              "      <td>0</td>\n",
              "      <td>0</td>\n",
              "      <td>1</td>\n",
              "      <td>0</td>\n",
              "      <td>0</td>\n",
              "      <td>0</td>\n",
              "      <td>1</td>\n",
              "      <td>1994</td>\n",
              "    </tr>\n",
              "    <tr>\n",
              "      <th>1</th>\n",
              "      <td>1</td>\n",
              "      <td>1</td>\n",
              "      <td>34.0</td>\n",
              "      <td>0</td>\n",
              "      <td>8</td>\n",
              "      <td>0</td>\n",
              "      <td>15</td>\n",
              "      <td>400</td>\n",
              "      <td>4.0</td>\n",
              "      <td>50</td>\n",
              "      <td>50</td>\n",
              "      <td>0</td>\n",
              "      <td>6</td>\n",
              "      <td>33</td>\n",
              "      <td>1</td>\n",
              "      <td>0</td>\n",
              "      <td>0</td>\n",
              "      <td>0.0</td>\n",
              "      <td>0.0</td>\n",
              "      <td>1</td>\n",
              "      <td>59294.455571</td>\n",
              "      <td>0</td>\n",
              "      <td>0</td>\n",
              "      <td>0</td>\n",
              "      <td>0</td>\n",
              "      <td>1</td>\n",
              "      <td>0</td>\n",
              "      <td>0</td>\n",
              "      <td>0</td>\n",
              "      <td>0</td>\n",
              "      <td>0</td>\n",
              "      <td>0</td>\n",
              "      <td>0</td>\n",
              "      <td>0</td>\n",
              "      <td>0</td>\n",
              "      <td>1</td>\n",
              "      <td>0</td>\n",
              "      <td>0</td>\n",
              "      <td>0</td>\n",
              "      <td>0</td>\n",
              "      <td>0</td>\n",
              "      <td>0</td>\n",
              "      <td>0</td>\n",
              "      <td>0</td>\n",
              "      <td>1</td>\n",
              "      <td>0</td>\n",
              "      <td>0</td>\n",
              "      <td>0</td>\n",
              "      <td>0</td>\n",
              "      <td>0</td>\n",
              "      <td>0</td>\n",
              "      <td>1</td>\n",
              "      <td>0</td>\n",
              "      <td>0</td>\n",
              "      <td>0</td>\n",
              "      <td>0</td>\n",
              "      <td>0</td>\n",
              "      <td>0</td>\n",
              "      <td>0</td>\n",
              "      <td>0</td>\n",
              "      <td>0</td>\n",
              "      <td>0</td>\n",
              "      <td>0</td>\n",
              "      <td>0</td>\n",
              "      <td>0</td>\n",
              "      <td>1</td>\n",
              "      <td>0</td>\n",
              "      <td>0</td>\n",
              "      <td>0</td>\n",
              "      <td>0</td>\n",
              "      <td>0</td>\n",
              "      <td>0</td>\n",
              "      <td>0</td>\n",
              "      <td>0</td>\n",
              "      <td>0</td>\n",
              "      <td>1</td>\n",
              "      <td>0</td>\n",
              "      <td>0</td>\n",
              "      <td>0</td>\n",
              "      <td>0</td>\n",
              "      <td>0</td>\n",
              "      <td>0</td>\n",
              "      <td>0</td>\n",
              "      <td>0</td>\n",
              "      <td>0</td>\n",
              "      <td>0</td>\n",
              "      <td>1</td>\n",
              "      <td>0</td>\n",
              "      <td>0</td>\n",
              "      <td>0</td>\n",
              "      <td>1</td>\n",
              "      <td>0</td>\n",
              "      <td>0</td>\n",
              "      <td>0</td>\n",
              "      <td>0</td>\n",
              "      <td>0</td>\n",
              "      <td>1</td>\n",
              "      <td>0</td>\n",
              "      <td>0</td>\n",
              "      <td>0</td>\n",
              "      <td>0</td>\n",
              "      <td>0</td>\n",
              "      <td>1</td>\n",
              "      <td>0</td>\n",
              "      <td>0</td>\n",
              "      <td>1</td>\n",
              "      <td>0</td>\n",
              "      <td>1994</td>\n",
              "    </tr>\n",
              "    <tr>\n",
              "      <th>2</th>\n",
              "      <td>1</td>\n",
              "      <td>1</td>\n",
              "      <td>47.0</td>\n",
              "      <td>0</td>\n",
              "      <td>8</td>\n",
              "      <td>0</td>\n",
              "      <td>7</td>\n",
              "      <td>400</td>\n",
              "      <td>3.0</td>\n",
              "      <td>50</td>\n",
              "      <td>50</td>\n",
              "      <td>1</td>\n",
              "      <td>7</td>\n",
              "      <td>45</td>\n",
              "      <td>0</td>\n",
              "      <td>0</td>\n",
              "      <td>0</td>\n",
              "      <td>0.0</td>\n",
              "      <td>0.0</td>\n",
              "      <td>1</td>\n",
              "      <td>71756.941320</td>\n",
              "      <td>0</td>\n",
              "      <td>0</td>\n",
              "      <td>0</td>\n",
              "      <td>0</td>\n",
              "      <td>0</td>\n",
              "      <td>0</td>\n",
              "      <td>0</td>\n",
              "      <td>0</td>\n",
              "      <td>0</td>\n",
              "      <td>0</td>\n",
              "      <td>1</td>\n",
              "      <td>0</td>\n",
              "      <td>0</td>\n",
              "      <td>0</td>\n",
              "      <td>0</td>\n",
              "      <td>0</td>\n",
              "      <td>1</td>\n",
              "      <td>1</td>\n",
              "      <td>0</td>\n",
              "      <td>0</td>\n",
              "      <td>0</td>\n",
              "      <td>0</td>\n",
              "      <td>0</td>\n",
              "      <td>0</td>\n",
              "      <td>0</td>\n",
              "      <td>0</td>\n",
              "      <td>0</td>\n",
              "      <td>0</td>\n",
              "      <td>0</td>\n",
              "      <td>0</td>\n",
              "      <td>1</td>\n",
              "      <td>0</td>\n",
              "      <td>0</td>\n",
              "      <td>0</td>\n",
              "      <td>0</td>\n",
              "      <td>0</td>\n",
              "      <td>0</td>\n",
              "      <td>0</td>\n",
              "      <td>0</td>\n",
              "      <td>0</td>\n",
              "      <td>0</td>\n",
              "      <td>0</td>\n",
              "      <td>0</td>\n",
              "      <td>0</td>\n",
              "      <td>0</td>\n",
              "      <td>0</td>\n",
              "      <td>0</td>\n",
              "      <td>1</td>\n",
              "      <td>0</td>\n",
              "      <td>0</td>\n",
              "      <td>0</td>\n",
              "      <td>0</td>\n",
              "      <td>0</td>\n",
              "      <td>0</td>\n",
              "      <td>0</td>\n",
              "      <td>0</td>\n",
              "      <td>0</td>\n",
              "      <td>0</td>\n",
              "      <td>0</td>\n",
              "      <td>1</td>\n",
              "      <td>0</td>\n",
              "      <td>0</td>\n",
              "      <td>0</td>\n",
              "      <td>1</td>\n",
              "      <td>0</td>\n",
              "      <td>0</td>\n",
              "      <td>0</td>\n",
              "      <td>0</td>\n",
              "      <td>1</td>\n",
              "      <td>0</td>\n",
              "      <td>0</td>\n",
              "      <td>0</td>\n",
              "      <td>0</td>\n",
              "      <td>0</td>\n",
              "      <td>0</td>\n",
              "      <td>1</td>\n",
              "      <td>0</td>\n",
              "      <td>0</td>\n",
              "      <td>0</td>\n",
              "      <td>0</td>\n",
              "      <td>0</td>\n",
              "      <td>1</td>\n",
              "      <td>0</td>\n",
              "      <td>0</td>\n",
              "      <td>1</td>\n",
              "      <td>0</td>\n",
              "      <td>1994</td>\n",
              "    </tr>\n",
              "    <tr>\n",
              "      <th>3</th>\n",
              "      <td>0</td>\n",
              "      <td>1</td>\n",
              "      <td>65.0</td>\n",
              "      <td>1</td>\n",
              "      <td>2</td>\n",
              "      <td>0</td>\n",
              "      <td>4</td>\n",
              "      <td>400</td>\n",
              "      <td>2.0</td>\n",
              "      <td>50</td>\n",
              "      <td>50</td>\n",
              "      <td>1</td>\n",
              "      <td>9</td>\n",
              "      <td>58</td>\n",
              "      <td>1</td>\n",
              "      <td>0</td>\n",
              "      <td>0</td>\n",
              "      <td>6.0</td>\n",
              "      <td>0.0</td>\n",
              "      <td>1</td>\n",
              "      <td>7584.153493</td>\n",
              "      <td>0</td>\n",
              "      <td>0</td>\n",
              "      <td>0</td>\n",
              "      <td>0</td>\n",
              "      <td>0</td>\n",
              "      <td>0</td>\n",
              "      <td>1</td>\n",
              "      <td>0</td>\n",
              "      <td>0</td>\n",
              "      <td>0</td>\n",
              "      <td>0</td>\n",
              "      <td>0</td>\n",
              "      <td>0</td>\n",
              "      <td>1</td>\n",
              "      <td>0</td>\n",
              "      <td>0</td>\n",
              "      <td>0</td>\n",
              "      <td>0</td>\n",
              "      <td>0</td>\n",
              "      <td>1</td>\n",
              "      <td>0</td>\n",
              "      <td>0</td>\n",
              "      <td>0</td>\n",
              "      <td>0</td>\n",
              "      <td>0</td>\n",
              "      <td>0</td>\n",
              "      <td>0</td>\n",
              "      <td>0</td>\n",
              "      <td>0</td>\n",
              "      <td>0</td>\n",
              "      <td>0</td>\n",
              "      <td>0</td>\n",
              "      <td>0</td>\n",
              "      <td>0</td>\n",
              "      <td>0</td>\n",
              "      <td>0</td>\n",
              "      <td>0</td>\n",
              "      <td>0</td>\n",
              "      <td>0</td>\n",
              "      <td>0</td>\n",
              "      <td>0</td>\n",
              "      <td>1</td>\n",
              "      <td>0</td>\n",
              "      <td>1</td>\n",
              "      <td>0</td>\n",
              "      <td>0</td>\n",
              "      <td>0</td>\n",
              "      <td>0</td>\n",
              "      <td>0</td>\n",
              "      <td>0</td>\n",
              "      <td>0</td>\n",
              "      <td>0</td>\n",
              "      <td>0</td>\n",
              "      <td>0</td>\n",
              "      <td>0</td>\n",
              "      <td>1</td>\n",
              "      <td>0</td>\n",
              "      <td>0</td>\n",
              "      <td>0</td>\n",
              "      <td>0</td>\n",
              "      <td>0</td>\n",
              "      <td>0</td>\n",
              "      <td>1</td>\n",
              "      <td>0</td>\n",
              "      <td>0</td>\n",
              "      <td>0</td>\n",
              "      <td>0</td>\n",
              "      <td>0</td>\n",
              "      <td>1</td>\n",
              "      <td>0</td>\n",
              "      <td>0</td>\n",
              "      <td>0</td>\n",
              "      <td>0</td>\n",
              "      <td>1</td>\n",
              "      <td>0</td>\n",
              "      <td>0</td>\n",
              "      <td>0</td>\n",
              "      <td>0</td>\n",
              "      <td>0</td>\n",
              "      <td>0</td>\n",
              "      <td>0</td>\n",
              "      <td>1</td>\n",
              "      <td>0</td>\n",
              "      <td>0</td>\n",
              "      <td>0</td>\n",
              "      <td>1</td>\n",
              "      <td>1994</td>\n",
              "    </tr>\n",
              "    <tr>\n",
              "      <th>4</th>\n",
              "      <td>1</td>\n",
              "      <td>1</td>\n",
              "      <td>36.0</td>\n",
              "      <td>1</td>\n",
              "      <td>8</td>\n",
              "      <td>0</td>\n",
              "      <td>14</td>\n",
              "      <td>400</td>\n",
              "      <td>1.0</td>\n",
              "      <td>50</td>\n",
              "      <td>50</td>\n",
              "      <td>1</td>\n",
              "      <td>7</td>\n",
              "      <td>38</td>\n",
              "      <td>0</td>\n",
              "      <td>0</td>\n",
              "      <td>0</td>\n",
              "      <td>1.5</td>\n",
              "      <td>0.0</td>\n",
              "      <td>1</td>\n",
              "      <td>98545.374339</td>\n",
              "      <td>0</td>\n",
              "      <td>0</td>\n",
              "      <td>0</td>\n",
              "      <td>1</td>\n",
              "      <td>0</td>\n",
              "      <td>0</td>\n",
              "      <td>0</td>\n",
              "      <td>0</td>\n",
              "      <td>0</td>\n",
              "      <td>0</td>\n",
              "      <td>0</td>\n",
              "      <td>0</td>\n",
              "      <td>1</td>\n",
              "      <td>0</td>\n",
              "      <td>0</td>\n",
              "      <td>0</td>\n",
              "      <td>0</td>\n",
              "      <td>0</td>\n",
              "      <td>0</td>\n",
              "      <td>1</td>\n",
              "      <td>0</td>\n",
              "      <td>0</td>\n",
              "      <td>0</td>\n",
              "      <td>0</td>\n",
              "      <td>0</td>\n",
              "      <td>0</td>\n",
              "      <td>0</td>\n",
              "      <td>0</td>\n",
              "      <td>0</td>\n",
              "      <td>0</td>\n",
              "      <td>1</td>\n",
              "      <td>0</td>\n",
              "      <td>0</td>\n",
              "      <td>0</td>\n",
              "      <td>0</td>\n",
              "      <td>0</td>\n",
              "      <td>0</td>\n",
              "      <td>0</td>\n",
              "      <td>0</td>\n",
              "      <td>0</td>\n",
              "      <td>0</td>\n",
              "      <td>0</td>\n",
              "      <td>0</td>\n",
              "      <td>0</td>\n",
              "      <td>1</td>\n",
              "      <td>0</td>\n",
              "      <td>0</td>\n",
              "      <td>0</td>\n",
              "      <td>0</td>\n",
              "      <td>0</td>\n",
              "      <td>0</td>\n",
              "      <td>0</td>\n",
              "      <td>0</td>\n",
              "      <td>1</td>\n",
              "      <td>0</td>\n",
              "      <td>0</td>\n",
              "      <td>0</td>\n",
              "      <td>0</td>\n",
              "      <td>0</td>\n",
              "      <td>0</td>\n",
              "      <td>0</td>\n",
              "      <td>0</td>\n",
              "      <td>0</td>\n",
              "      <td>0</td>\n",
              "      <td>1</td>\n",
              "      <td>0</td>\n",
              "      <td>0</td>\n",
              "      <td>0</td>\n",
              "      <td>1</td>\n",
              "      <td>0</td>\n",
              "      <td>0</td>\n",
              "      <td>0</td>\n",
              "      <td>0</td>\n",
              "      <td>0</td>\n",
              "      <td>0</td>\n",
              "      <td>1</td>\n",
              "      <td>0</td>\n",
              "      <td>0</td>\n",
              "      <td>0</td>\n",
              "      <td>0</td>\n",
              "      <td>0</td>\n",
              "      <td>1</td>\n",
              "      <td>0</td>\n",
              "      <td>0</td>\n",
              "      <td>1</td>\n",
              "      <td>0</td>\n",
              "      <td>1994</td>\n",
              "    </tr>\n",
              "  </tbody>\n",
              "</table>\n",
              "</div>"
            ],
            "text/plain": [
              "   AccidentArea  Sex   Age  Fault  VehiclePrice  FraudFound_P  RepNumber  \\\n",
              "0             1    0  21.0      0             8             0         12   \n",
              "1             1    1  34.0      0             8             0         15   \n",
              "2             1    1  47.0      0             8             0          7   \n",
              "3             0    1  65.0      1             2             0          4   \n",
              "4             1    1  36.0      1             8             0         14   \n",
              "\n",
              "   Deductible  DriverRating  Days_Policy_Accident  Days_Policy_Claim  \\\n",
              "0         300           1.0                    50                 50   \n",
              "1         400           4.0                    50                 50   \n",
              "2         400           3.0                    50                 50   \n",
              "3         400           2.0                    50                 50   \n",
              "4         400           1.0                    50                 50   \n",
              "\n",
              "   PastNumberOfClaims  AgeOfVehicle  AgeOfPolicyHolder  PoliceReportFiled  \\\n",
              "0                   0             3                 28                  0   \n",
              "1                   0             6                 33                  1   \n",
              "2                   1             7                 45                  0   \n",
              "3                   1             9                 58                  1   \n",
              "4                   1             7                 38                  0   \n",
              "\n",
              "   WitnessPresent  AgentType  NumberOfSuppliments  AddressChange_Claim  \\\n",
              "0               0          0                  0.0                  1.0   \n",
              "1               0          0                  0.0                  0.0   \n",
              "2               0          0                  0.0                  0.0   \n",
              "3               0          0                  6.0                  0.0   \n",
              "4               0          0                  1.5                  0.0   \n",
              "\n",
              "  NumberOfCars     ClaimSize  Month_Apr  Month_Aug  Month_Dec  Month_Feb  \\\n",
              "0            4  55526.069421          0          0          1          0   \n",
              "1            1  59294.455571          0          0          0          0   \n",
              "2            1  71756.941320          0          0          0          0   \n",
              "3            1   7584.153493          0          0          0          0   \n",
              "4            1  98545.374339          0          0          0          1   \n",
              "\n",
              "   Month_Jan  Month_Jul  Month_Jun  Month_Mar  Month_May  Month_Nov  \\\n",
              "0          0          0          0          0          0          0   \n",
              "1          1          0          0          0          0          0   \n",
              "2          0          0          0          0          0          0   \n",
              "3          0          0          1          0          0          0   \n",
              "4          0          0          0          0          0          0   \n",
              "\n",
              "   Month_Oct  Month_Sep  WeekOfMonth_1  WeekOfMonth_2  WeekOfMonth_3  \\\n",
              "0          0          0              0              0              0   \n",
              "1          0          0              0              0              1   \n",
              "2          1          0              0              0              0   \n",
              "3          0          0              0              1              0   \n",
              "4          0          0              1              0              0   \n",
              "\n",
              "   WeekOfMonth_4  WeekOfMonth_5  DayOfWeek_Friday  DayOfWeek_Monday  \\\n",
              "0              0              1                 0                 0   \n",
              "1              0              0                 0                 0   \n",
              "2              0              1                 1                 0   \n",
              "3              0              0                 0                 0   \n",
              "4              0              0                 0                 0   \n",
              "\n",
              "   DayOfWeek_Saturday  DayOfWeek_Sunday  DayOfWeek_Thursday  \\\n",
              "0                   0                 0                   0   \n",
              "1                   0                 0                   0   \n",
              "2                   0                 0                   0   \n",
              "3                   1                 0                   0   \n",
              "4                   1                 0                   0   \n",
              "\n",
              "   DayOfWeek_Tuesday  DayOfWeek_Wednesday  Make_Accura  Make_BMW  \\\n",
              "0                  0                    1            0         0   \n",
              "1                  0                    1            0         0   \n",
              "2                  0                    0            0         0   \n",
              "3                  0                    0            0         0   \n",
              "4                  0                    0            0         0   \n",
              "\n",
              "   Make_Chevrolet  Make_Dodge  Make_Ferrari  Make_Ford  Make_Honda  \\\n",
              "0               0           0             0          0           1   \n",
              "1               0           0             0          0           1   \n",
              "2               0           0             0          0           1   \n",
              "3               0           0             0          0           0   \n",
              "4               0           0             0          0           1   \n",
              "\n",
              "   Make_Jaguar  Make_Lexus  Make_Mazda  Make_Mecedes  Make_Mercury  \\\n",
              "0            0           0           0             0             0   \n",
              "1            0           0           0             0             0   \n",
              "2            0           0           0             0             0   \n",
              "3            0           0           0             0             0   \n",
              "4            0           0           0             0             0   \n",
              "\n",
              "   Make_Nisson  Make_Pontiac  Make_Porche  Make_Saab  Make_Saturn  \\\n",
              "0            0             0            0          0            0   \n",
              "1            0             0            0          0            0   \n",
              "2            0             0            0          0            0   \n",
              "3            0             0            0          0            0   \n",
              "4            0             0            0          0            0   \n",
              "\n",
              "   Make_Toyota  Make_VW  DayOfWeekClaimed_Friday  DayOfWeekClaimed_Monday  \\\n",
              "0            0        0                        0                        0   \n",
              "1            0        0                        0                        1   \n",
              "2            0        0                        0                        0   \n",
              "3            1        0                        1                        0   \n",
              "4            0        0                        0                        1   \n",
              "\n",
              "   DayOfWeekClaimed_Saturday  DayOfWeekClaimed_Sunday  \\\n",
              "0                          0                        0   \n",
              "1                          0                        0   \n",
              "2                          0                        0   \n",
              "3                          0                        0   \n",
              "4                          0                        0   \n",
              "\n",
              "   DayOfWeekClaimed_Thursday  DayOfWeekClaimed_Tuesday  \\\n",
              "0                          0                         1   \n",
              "1                          0                         0   \n",
              "2                          1                         0   \n",
              "3                          0                         0   \n",
              "4                          0                         0   \n",
              "\n",
              "   DayOfWeekClaimed_Wednesday  MonthClaimed_Apr  MonthClaimed_Aug  \\\n",
              "0                           0                 0                 0   \n",
              "1                           0                 0                 0   \n",
              "2                           0                 0                 0   \n",
              "3                           0                 0                 0   \n",
              "4                           0                 0                 0   \n",
              "\n",
              "   MonthClaimed_Dec  MonthClaimed_Feb  MonthClaimed_Jan  MonthClaimed_Jul  \\\n",
              "0                 0                 0                 1                 0   \n",
              "1                 0                 0                 1                 0   \n",
              "2                 0                 0                 0                 0   \n",
              "3                 0                 0                 0                 1   \n",
              "4                 0                 1                 0                 0   \n",
              "\n",
              "   MonthClaimed_Jun  MonthClaimed_Mar  MonthClaimed_May  MonthClaimed_Nov  \\\n",
              "0                 0                 0                 0                 0   \n",
              "1                 0                 0                 0                 0   \n",
              "2                 0                 0                 0                 1   \n",
              "3                 0                 0                 0                 0   \n",
              "4                 0                 0                 0                 0   \n",
              "\n",
              "   MonthClaimed_Oct  MonthClaimed_Sep  WeekOfMonthClaimed_1  \\\n",
              "0                 0                 0                     1   \n",
              "1                 0                 0                     0   \n",
              "2                 0                 0                     0   \n",
              "3                 0                 0                     1   \n",
              "4                 0                 0                     0   \n",
              "\n",
              "   WeekOfMonthClaimed_2  WeekOfMonthClaimed_3  WeekOfMonthClaimed_4  \\\n",
              "0                     0                     0                     0   \n",
              "1                     0                     0                     1   \n",
              "2                     1                     0                     0   \n",
              "3                     0                     0                     0   \n",
              "4                     0                     1                     0   \n",
              "\n",
              "   WeekOfMonthClaimed_5  MaritalStatus_Divorced  MaritalStatus_Married  \\\n",
              "0                     0                       0                      0   \n",
              "1                     0                       0                      0   \n",
              "2                     0                       0                      1   \n",
              "3                     0                       0                      1   \n",
              "4                     0                       0                      1   \n",
              "\n",
              "   MaritalStatus_Single  MaritalStatus_Widow  PolicyType_Sedan - All Perils  \\\n",
              "0                     1                    0                              0   \n",
              "1                     1                    0                              0   \n",
              "2                     0                    0                              0   \n",
              "3                     0                    0                              0   \n",
              "4                     0                    0                              0   \n",
              "\n",
              "   PolicyType_Sedan - Collision  PolicyType_Sedan - Liability  \\\n",
              "0                             0                             0   \n",
              "1                             0                             0   \n",
              "2                             0                             0   \n",
              "3                             0                             1   \n",
              "4                             0                             0   \n",
              "\n",
              "   PolicyType_Sport - All Perils  PolicyType_Sport - Collision  \\\n",
              "0                              0                             0   \n",
              "1                              0                             1   \n",
              "2                              0                             1   \n",
              "3                              0                             0   \n",
              "4                              0                             1   \n",
              "\n",
              "   PolicyType_Sport - Liability  PolicyType_Utility - All Perils  \\\n",
              "0                             1                                0   \n",
              "1                             0                                0   \n",
              "2                             0                                0   \n",
              "3                             0                                0   \n",
              "4                             0                                0   \n",
              "\n",
              "   PolicyType_Utility - Collision  PolicyType_Utility - Liability  \\\n",
              "0                               0                               0   \n",
              "1                               0                               0   \n",
              "2                               0                               0   \n",
              "3                               0                               0   \n",
              "4                               0                               0   \n",
              "\n",
              "   VehicleCategory_Sedan  VehicleCategory_Sport  VehicleCategory_Utility  \\\n",
              "0                      0                      1                        0   \n",
              "1                      0                      1                        0   \n",
              "2                      0                      1                        0   \n",
              "3                      0                      1                        0   \n",
              "4                      0                      1                        0   \n",
              "\n",
              "   BasePolicy_All Perils  BasePolicy_Collision  BasePolicy_Liability  \\\n",
              "0                      0                     0                     1   \n",
              "1                      0                     1                     0   \n",
              "2                      0                     1                     0   \n",
              "3                      0                     0                     1   \n",
              "4                      0                     1                     0   \n",
              "\n",
              "   Year_gone  \n",
              "0       1994  \n",
              "1       1994  \n",
              "2       1994  \n",
              "3       1994  \n",
              "4       1994  "
            ]
          },
          "metadata": {
            "tags": []
          },
          "execution_count": 56
        }
      ]
    },
    {
      "metadata": {
        "id": "owp_Nzxp5Bdg",
        "colab_type": "code",
        "colab": {
          "base_uri": "https://localhost:8080/",
          "height": 34
        },
        "outputId": "6567d52f-aaa8-4a8b-a158-86ea87727fc3"
      },
      "cell_type": "code",
      "source": [
        "for column in dataset:\n",
        "  if (dataset[column].dtype==object):\n",
        "    print (column)"
      ],
      "execution_count": 62,
      "outputs": [
        {
          "output_type": "stream",
          "text": [
            "NumberOfCars\n"
          ],
          "name": "stdout"
        }
      ]
    },
    {
      "metadata": {
        "id": "MFQTiQfG6N_h",
        "colab_type": "code",
        "colab": {
          "base_uri": "https://localhost:8080/",
          "height": 119
        },
        "outputId": "c0a1f5ba-ab78-4030-d3db-98e0198bc833"
      },
      "cell_type": "code",
      "source": [
        "dataset[\"NumberOfCars\"].value_counts()"
      ],
      "execution_count": 63,
      "outputs": [
        {
          "output_type": "execute_result",
          "data": {
            "text/plain": [
              "1             10688\n",
              "2 vehicles      558\n",
              "4               288\n",
              "7                19\n",
              "10                1\n",
              "Name: NumberOfCars, dtype: int64"
            ]
          },
          "metadata": {
            "tags": []
          },
          "execution_count": 63
        }
      ]
    },
    {
      "metadata": {
        "id": "nUXVPnLE7bo8",
        "colab_type": "code",
        "colab": {
          "base_uri": "https://localhost:8080/",
          "height": 34
        },
        "outputId": "a1e53982-4a07-4187-86c9-fe9c34cb365e"
      },
      "cell_type": "code",
      "source": [
        "dataset[\"NumberOfCars\"]=dataset[\"NumberOfCars\"].replace(\"2 vehicles\",2)\n",
        "dataset[\"NumberOfCars\"].dtype"
      ],
      "execution_count": 65,
      "outputs": [
        {
          "output_type": "execute_result",
          "data": {
            "text/plain": [
              "dtype('int64')"
            ]
          },
          "metadata": {
            "tags": []
          },
          "execution_count": 65
        }
      ]
    },
    {
      "metadata": {
        "id": "DtmK-58F7hxd",
        "colab_type": "code",
        "colab": {}
      },
      "cell_type": "code",
      "source": [
        "X=dataset.drop([\"FraudFound_P\"],axis=1)\n",
        "y=dataset[\"FraudFound_P\"]"
      ],
      "execution_count": 0,
      "outputs": []
    },
    {
      "metadata": {
        "id": "5uHnBIMX-VQ1",
        "colab_type": "code",
        "colab": {}
      },
      "cell_type": "code",
      "source": [
        "from sklearn.model_selection import train_test_split"
      ],
      "execution_count": 0,
      "outputs": []
    },
    {
      "metadata": {
        "id": "xwstFwHG-gzO",
        "colab_type": "code",
        "colab": {}
      },
      "cell_type": "code",
      "source": [
        "X_train, X_test, y_train, y_test = train_test_split(X, y, test_size=0.3, random_state=123)"
      ],
      "execution_count": 0,
      "outputs": []
    },
    {
      "metadata": {
        "id": "OYa-bAl4-0nF",
        "colab_type": "code",
        "colab": {
          "base_uri": "https://localhost:8080/",
          "height": 102
        },
        "outputId": "953493a1-fbc7-49f0-8741-54b38ed0bad7"
      },
      "cell_type": "code",
      "source": [
        "X_test.info()"
      ],
      "execution_count": 83,
      "outputs": [
        {
          "output_type": "stream",
          "text": [
            "<class 'pandas.core.frame.DataFrame'>\n",
            "Int64Index: 3467 entries, 2598 to 2520\n",
            "Columns: 107 entries, AccidentArea to Year_gone\n",
            "dtypes: float64(5), int64(16), uint8(86)\n",
            "memory usage: 887.1 KB\n"
          ],
          "name": "stdout"
        }
      ]
    },
    {
      "metadata": {
        "id": "X0UcoTep-63b",
        "colab_type": "code",
        "colab": {}
      },
      "cell_type": "code",
      "source": [
        "import xgboost as xgb\n",
        "from sklearn.metrics import mean_squared_error"
      ],
      "execution_count": 0,
      "outputs": []
    },
    {
      "metadata": {
        "id": "-o-8nj2QCVWi",
        "colab_type": "code",
        "colab": {}
      },
      "cell_type": "code",
      "source": [
        "xg_reg = xgb.XGBRegressor(objective ='reg:logistic', colsample_bytree = 0.3, learning_rate = 0.1,\n",
        "                max_depth = 5, alpha = 10, n_estimators = 10)"
      ],
      "execution_count": 0,
      "outputs": []
    },
    {
      "metadata": {
        "id": "02XAU_KFCj-O",
        "colab_type": "code",
        "colab": {
          "base_uri": "https://localhost:8080/",
          "height": 119
        },
        "outputId": "795f1156-021e-4454-f9f9-9dbdd2800b20"
      },
      "cell_type": "code",
      "source": [
        "xg_reg.fit(X_train,y_train)\n",
        "\n",
        "preds = xg_reg.predict(X_test)"
      ],
      "execution_count": 84,
      "outputs": [
        {
          "output_type": "execute_result",
          "data": {
            "text/plain": [
              "XGBRegressor(alpha=10, base_score=0.5, booster='gbtree', colsample_bylevel=1,\n",
              "       colsample_bytree=0.3, gamma=0, learning_rate=0.1, max_delta_step=0,\n",
              "       max_depth=5, min_child_weight=1, missing=None, n_estimators=10,\n",
              "       n_jobs=1, nthread=None, objective='reg:logistic', random_state=0,\n",
              "       reg_alpha=0, reg_lambda=1, scale_pos_weight=1, seed=None,\n",
              "       silent=True, subsample=1)"
            ]
          },
          "metadata": {
            "tags": []
          },
          "execution_count": 84
        }
      ]
    },
    {
      "metadata": {
        "id": "K4mm7mNPCwV_",
        "colab_type": "code",
        "colab": {
          "base_uri": "https://localhost:8080/",
          "height": 51
        },
        "outputId": "903b7ee3-e39b-464f-9614-ff36887a561c"
      },
      "cell_type": "code",
      "source": [
        "preds"
      ],
      "execution_count": 85,
      "outputs": [
        {
          "output_type": "execute_result",
          "data": {
            "text/plain": [
              "array([0.26988924, 0.18530494, 0.18373485, ..., 0.18530494, 0.18530494,\n",
              "       0.2645766 ], dtype=float32)"
            ]
          },
          "metadata": {
            "tags": []
          },
          "execution_count": 85
        }
      ]
    },
    {
      "metadata": {
        "id": "e4k3q-dCDw0s",
        "colab_type": "code",
        "colab": {
          "base_uri": "https://localhost:8080/",
          "height": 34
        },
        "outputId": "03708917-bfb0-44ad-d40f-0589df729be7"
      },
      "cell_type": "code",
      "source": [
        "rmse = np.sqrt(mean_squared_error(y_test, preds))\n",
        "print(\"RMSE: %f\" % (rmse))"
      ],
      "execution_count": 86,
      "outputs": [
        {
          "output_type": "stream",
          "text": [
            "RMSE: 0.276697\n"
          ],
          "name": "stdout"
        }
      ]
    },
    {
      "metadata": {
        "id": "Fdmz9MXfD6F8",
        "colab_type": "code",
        "colab": {}
      },
      "cell_type": "code",
      "source": [
        "from sklearn.linear_model import LinearRegression\n",
        "reg= LinearRegression()"
      ],
      "execution_count": 0,
      "outputs": []
    },
    {
      "metadata": {
        "id": "7prV_cfBETXR",
        "colab_type": "code",
        "colab": {
          "base_uri": "https://localhost:8080/",
          "height": 51
        },
        "outputId": "1afff8ed-20dc-453c-81be-e3bb2922bafa"
      },
      "cell_type": "code",
      "source": [
        "reg.fit(X_train,y_train)\n",
        "\n",
        "pred2 = reg.predict(X_test)"
      ],
      "execution_count": 94,
      "outputs": [
        {
          "output_type": "execute_result",
          "data": {
            "text/plain": [
              "LinearRegression(copy_X=True, fit_intercept=True, n_jobs=None,\n",
              "         normalize=False)"
            ]
          },
          "metadata": {
            "tags": []
          },
          "execution_count": 94
        }
      ]
    },
    {
      "metadata": {
        "id": "FPxuj5NuEZ4O",
        "colab_type": "code",
        "colab": {
          "base_uri": "https://localhost:8080/",
          "height": 51
        },
        "outputId": "7e8e6b71-aa0b-4674-ce28-ef27e93e377c"
      },
      "cell_type": "code",
      "source": [
        "pred2"
      ],
      "execution_count": 95,
      "outputs": [
        {
          "output_type": "execute_result",
          "data": {
            "text/plain": [
              "array([ 0.14293949, -0.0366478 , -0.06856196, ..., -0.02449511,\n",
              "        0.0407147 ,  0.16573959])"
            ]
          },
          "metadata": {
            "tags": []
          },
          "execution_count": 95
        }
      ]
    },
    {
      "metadata": {
        "id": "-8oxM7F1EfTU",
        "colab_type": "code",
        "colab": {
          "base_uri": "https://localhost:8080/",
          "height": 34
        },
        "outputId": "9b2e4c2f-daf0-46d5-e3bf-e589ba5539f6"
      },
      "cell_type": "code",
      "source": [
        "rmse = np.sqrt(mean_squared_error(y_test, pred2))\n",
        "print(\"RMSE: %f\" % (rmse))"
      ],
      "execution_count": 96,
      "outputs": [
        {
          "output_type": "stream",
          "text": [
            "RMSE: 0.226019\n"
          ],
          "name": "stdout"
        }
      ]
    },
    {
      "metadata": {
        "id": "l37yFqL5FBhO",
        "colab_type": "code",
        "colab": {}
      },
      "cell_type": "code",
      "source": [
        ""
      ],
      "execution_count": 0,
      "outputs": []
    }
  ]
}